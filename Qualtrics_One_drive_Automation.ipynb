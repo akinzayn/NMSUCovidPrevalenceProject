{
  "nbformat": 4,
  "nbformat_minor": 0,
  "metadata": {
    "colab": {
      "name": "Qualtrics One_drive Automation.ipynb",
      "provenance": [],
      "collapsed_sections": [],
      "include_colab_link": true
    },
    "kernelspec": {
      "name": "ir",
      "display_name": "R"
    },
    "language_info": {
      "name": "R"
    }
  },
  "cells": [
    {
      "cell_type": "markdown",
      "metadata": {
        "id": "view-in-github",
        "colab_type": "text"
      },
      "source": [
        "<a href=\"https://colab.research.google.com/github/akinzayn/NMSUCovidPrevalenceProject/blob/main/Qualtrics_One_drive_Automation.ipynb\" target=\"_parent\"><img src=\"https://colab.research.google.com/assets/colab-badge.svg\" alt=\"Open In Colab\"/></a>"
      ]
    },
    {
      "cell_type": "markdown",
      "source": [
        "### **Setting Up Colab**"
      ],
      "metadata": {
        "id": "bdJN5lOPj8Pz"
      }
    },
    {
      "cell_type": "code",
      "source": [
        "#@title\n",
        "install.packages(\"pacman\") \n",
        "library(pacman) # package for computing sensitivity and specificity"
      ],
      "metadata": {
        "id": "oXSuMQb_oueZ",
        "cellView": "form",
        "colab": {
          "base_uri": "https://localhost:8080/"
        },
        "outputId": "518329f6-e9b5-4e43-a9f0-37d0d24c9a6d"
      },
      "execution_count": null,
      "outputs": [
        {
          "output_type": "stream",
          "name": "stderr",
          "text": [
            "Installing package into ‘/usr/local/lib/R/site-library’\n",
            "(as ‘lib’ is unspecified)\n",
            "\n"
          ]
        }
      ]
    },
    {
      "cell_type": "code",
      "source": [
        "#@title\n",
        "h = p_load(tidyverse, googledrive, readxl, qualtRics, openxlsx, Microsoft365R)\n"
      ],
      "metadata": {
        "id": "_XGTL89jo1qq"
      },
      "execution_count": 209,
      "outputs": []
    },
    {
      "cell_type": "code",
      "source": [
        "drive_deauth()\n",
        "integrity_files = drive_get(as_id(c(\"\")))\n",
        "h = 1:dim(integrity_files)[1] %>% map(~drive_download(integrity_files[.,], overwrite = TRUE))"
      ],
      "metadata": {
        "colab": {
          "base_uri": "https://localhost:8080/"
        },
        "id": "C2ylqlO2Rriu",
        "outputId": "5221bc17-4c46-45ff-dc10-ce268f3681f7"
      },
      "execution_count": 208,
      "outputs": [
        {
          "output_type": "stream",
          "name": "stderr",
          "text": [
            "File downloaded:\n",
            "\n",
            "\u001b[36m•\u001b[39m \u001b[36mCovid_Integrity_Apr_23_5_09_Am\u001b[39m\n",
            "  \u001b[90m<id: 1f6SgUU6wbPAX1Yz8nK9i8ZmxfkQ8D5kb1qxFCBTok4E>\u001b[39m\n",
            "\n",
            "Saved locally as:\n",
            "\n",
            "\u001b[36m•\u001b[39m \u001b[34mCovid_Integrity_Apr_23_5_09_Am.xlsx\u001b[39m\n",
            "\n"
          ]
        }
      ]
    },
    {
      "cell_type": "markdown",
      "source": [
        "##### **Downloading Data From Qualtrics**"
      ],
      "metadata": {
        "id": "hnNE91JYPjJD"
      }
    },
    {
      "cell_type": "code",
      "source": [
        "qualtrics_api_credentials(api_key = \"\", \n",
        "                          base_url = \"sjc1.qualtrics.com\",\n",
        "                          install = TRUE, overwrite = TRUE)"
      ],
      "metadata": {
        "colab": {
          "base_uri": "https://localhost:8080/"
        },
        "id": "YD9OWr9TxpRu",
        "outputId": "7447c9f1-fd8e-4875-ec48-219b003484a8"
      },
      "execution_count": null,
      "outputs": [
        {
          "output_type": "stream",
          "name": "stderr",
          "text": [
            "Your Qualtrics key and base URL have been stored in your .Renviron.  \n",
            "To use now, restart R or run `readRenviron(\"~/.Renviron\")`\n",
            "\n"
          ]
        }
      ]
    },
    {
      "cell_type": "code",
      "source": [
        "readRenviron(\"~/.Renviron\")"
      ],
      "metadata": {
        "id": "yS8Xsm2LyAKN"
      },
      "execution_count": null,
      "outputs": []
    },
    {
      "cell_type": "code",
      "source": [
        "surveys <- all_surveys() "
      ],
      "metadata": {
        "id": "nd6yP_m6n6ch"
      },
      "execution_count": null,
      "outputs": []
    },
    {
      "cell_type": "code",
      "source": [
        "head(surveys, 2)"
      ],
      "metadata": {
        "colab": {
          "base_uri": "https://localhost:8080/",
          "height": 340
        },
        "id": "69JjECxezGwB",
        "outputId": "2e2acdb3-af56-4045-e3a6-5703990de90a"
      },
      "execution_count": null,
      "outputs": [
        {
          "output_type": "display_data",
          "data": {
            "text/html": [
              "<table class=\"dataframe\">\n",
              "<caption>A tibble: 1 × 6</caption>\n",
              "<thead>\n",
              "\t<tr><th scope=col>id</th><th scope=col>name</th><th scope=col>ownerId</th><th scope=col>lastModified</th><th scope=col>creationDate</th><th scope=col>isActive</th></tr>\n",
              "\t<tr><th scope=col>&lt;chr&gt;</th><th scope=col>&lt;chr&gt;</th><th scope=col>&lt;chr&gt;</th><th scope=col>&lt;chr&gt;</th><th scope=col>&lt;chr&gt;</th><th scope=col>&lt;lgl&gt;</th></tr>\n",
              "</thead>\n",
              "<tbody>\n",
              "\t<tr><td>SV_24YyVO3ywHx3Agu</td><td>Prevalence of Depression &amp; Sleep Disorders in New Mexico State University Population during COVID-19</td><td>UR_0uZUwCWAtCSaKAC</td><td>2022-04-22T23:06:28Z</td><td>2022-04-01T05:21:24Z</td><td>TRUE</td></tr>\n",
              "</tbody>\n",
              "</table>\n"
            ],
            "text/markdown": "\nA tibble: 1 × 6\n\n| id &lt;chr&gt; | name &lt;chr&gt; | ownerId &lt;chr&gt; | lastModified &lt;chr&gt; | creationDate &lt;chr&gt; | isActive &lt;lgl&gt; |\n|---|---|---|---|---|---|\n| SV_24YyVO3ywHx3Agu | Prevalence of Depression &amp; Sleep Disorders in New Mexico State University Population during COVID-19 | UR_0uZUwCWAtCSaKAC | 2022-04-22T23:06:28Z | 2022-04-01T05:21:24Z | TRUE |\n\n",
            "text/latex": "A tibble: 1 × 6\n\\begin{tabular}{llllll}\n id & name & ownerId & lastModified & creationDate & isActive\\\\\n <chr> & <chr> & <chr> & <chr> & <chr> & <lgl>\\\\\n\\hline\n\t SV\\_24YyVO3ywHx3Agu & Prevalence of Depression \\& Sleep Disorders in New Mexico State University Population during COVID-19 & UR\\_0uZUwCWAtCSaKAC & 2022-04-22T23:06:28Z & 2022-04-01T05:21:24Z & TRUE\\\\\n\\end{tabular}\n",
            "text/plain": [
              "  id                \n",
              "1 SV_24YyVO3ywHx3Agu\n",
              "  name                                                                                                \n",
              "1 Prevalence of Depression & Sleep Disorders in New Mexico State University Population during COVID-19\n",
              "  ownerId            lastModified         creationDate         isActive\n",
              "1 UR_0uZUwCWAtCSaKAC 2022-04-22T23:06:28Z 2022-04-01T05:21:24Z TRUE    "
            ]
          },
          "metadata": {}
        }
      ]
    },
    {
      "cell_type": "code",
      "source": [
        "\n",
        "survey_response_df <- fetch_survey(surveyID = surveys$id[1], \n",
        "                         verbose = TRUE,\n",
        "                        #  strip_html = TRUE,\n",
        "                          import_id = TRUE,\n",
        "                           time_zone = \"America/Denver\",\n",
        "                            add_column_map = TRUE,\n",
        "                             add_var_labels = TRUE,\n",
        "                             force_request=TRUE, col_types = cols())                           \n",
        "head(survey_response_df)"
      ],
      "metadata": {
        "colab": {
          "base_uri": "https://localhost:8080/",
          "height": 337
        },
        "id": "AdF8WsSfzUM5",
        "outputId": "2b7d5bb5-1b94-48d8-83cd-cb71367b2d1e"
      },
      "execution_count": 207,
      "outputs": [
        {
          "output_type": "stream",
          "name": "stdout",
          "text": [
            "  |======================================================================| 100%\n"
          ]
        },
        {
          "output_type": "display_data",
          "data": {
            "text/html": [
              "<table class=\"dataframe\">\n",
              "<caption>A tibble: 2 × 150</caption>\n",
              "<thead>\n",
              "\t<tr><th scope=col>startDate</th><th scope=col>endDate</th><th scope=col>status</th><th scope=col>progress</th><th scope=col>duration</th><th scope=col>finished</th><th scope=col>recordedDate</th><th scope=col>_recordId</th><th scope=col>distributionChannel</th><th scope=col>userLanguage</th><th scope=col>⋯</th><th scope=col>QID72_3</th><th scope=col>QID72_6</th><th scope=col>QID72_4</th><th scope=col>QID73_1</th><th scope=col>QID73_2</th><th scope=col>QID73_3</th><th scope=col>QID73_5</th><th scope=col>QID74</th><th scope=col>QID75</th><th scope=col>QID77_TEXT</th></tr>\n",
              "\t<tr><th scope=col>&lt;dttm&gt;</th><th scope=col>&lt;dttm&gt;</th><th scope=col>&lt;chr&gt;</th><th scope=col>&lt;dbl&gt;</th><th scope=col>&lt;dbl&gt;</th><th scope=col>&lt;lgl&gt;</th><th scope=col>&lt;dttm&gt;</th><th scope=col>&lt;chr&gt;</th><th scope=col>&lt;chr&gt;</th><th scope=col>&lt;chr&gt;</th><th scope=col>⋯</th><th scope=col>&lt;chr&gt;</th><th scope=col>&lt;lgl&gt;</th><th scope=col>&lt;lgl&gt;</th><th scope=col>&lt;chr&gt;</th><th scope=col>&lt;lgl&gt;</th><th scope=col>&lt;lgl&gt;</th><th scope=col>&lt;lgl&gt;</th><th scope=col>&lt;chr&gt;</th><th scope=col>&lt;chr&gt;</th><th scope=col>&lt;chr&gt;</th></tr>\n",
              "</thead>\n",
              "<tbody>\n",
              "\t<tr><td>2022-04-22 12:28:08</td><td>2022-04-22 12:51:57</td><td>IP Address</td><td>100</td><td>1429</td><td>TRUE</td><td>2022-04-22 12:51:58</td><td>R_1FfW01qiIDYgg3j</td><td>anonymous</td><td>EN</td><td>⋯</td><td>NA                       </td><td>NA</td><td>NA</td><td>Very often (5 or more times per month)</td><td>NA</td><td>NA</td><td>NA</td><td>No                   </td><td>Yes</td><td>hawkinsr@nmsu.edu</td></tr>\n",
              "\t<tr><td>2022-04-22 14:48:36</td><td>2022-04-22 14:55:41</td><td>IP Address</td><td>100</td><td> 425</td><td>TRUE</td><td>2022-04-22 14:55:42</td><td>R_2f2TG06j0f54tl2</td><td>anonymous</td><td>EN</td><td>⋯</td><td>9 hours or more per night</td><td>NA</td><td>NA</td><td>Very often (5 or more times per month)</td><td>NA</td><td>NA</td><td>NA</td><td>Prefer not to respond</td><td>Yes</td><td>kakakari@nmsu.edu</td></tr>\n",
              "</tbody>\n",
              "</table>\n"
            ],
            "text/markdown": "\nA tibble: 2 × 150\n\n| startDate &lt;dttm&gt; | endDate &lt;dttm&gt; | status &lt;chr&gt; | progress &lt;dbl&gt; | duration &lt;dbl&gt; | finished &lt;lgl&gt; | recordedDate &lt;dttm&gt; | _recordId &lt;chr&gt; | distributionChannel &lt;chr&gt; | userLanguage &lt;chr&gt; | ⋯ ⋯ | QID72_3 &lt;chr&gt; | QID72_6 &lt;lgl&gt; | QID72_4 &lt;lgl&gt; | QID73_1 &lt;chr&gt; | QID73_2 &lt;lgl&gt; | QID73_3 &lt;lgl&gt; | QID73_5 &lt;lgl&gt; | QID74 &lt;chr&gt; | QID75 &lt;chr&gt; | QID77_TEXT &lt;chr&gt; |\n|---|---|---|---|---|---|---|---|---|---|---|---|---|---|---|---|---|---|---|---|---|\n| 2022-04-22 12:28:08 | 2022-04-22 12:51:57 | IP Address | 100 | 1429 | TRUE | 2022-04-22 12:51:58 | R_1FfW01qiIDYgg3j | anonymous | EN | ⋯ | NA                        | NA | NA | Very often (5 or more times per month) | NA | NA | NA | No                    | Yes | hawkinsr@nmsu.edu |\n| 2022-04-22 14:48:36 | 2022-04-22 14:55:41 | IP Address | 100 |  425 | TRUE | 2022-04-22 14:55:42 | R_2f2TG06j0f54tl2 | anonymous | EN | ⋯ | 9 hours or more per night | NA | NA | Very often (5 or more times per month) | NA | NA | NA | Prefer not to respond | Yes | kakakari@nmsu.edu |\n\n",
            "text/latex": "A tibble: 2 × 150\n\\begin{tabular}{lllllllllllllllllllll}\n startDate & endDate & status & progress & duration & finished & recordedDate & \\_recordId & distributionChannel & userLanguage & ⋯ & QID72\\_3 & QID72\\_6 & QID72\\_4 & QID73\\_1 & QID73\\_2 & QID73\\_3 & QID73\\_5 & QID74 & QID75 & QID77\\_TEXT\\\\\n <dttm> & <dttm> & <chr> & <dbl> & <dbl> & <lgl> & <dttm> & <chr> & <chr> & <chr> & ⋯ & <chr> & <lgl> & <lgl> & <chr> & <lgl> & <lgl> & <lgl> & <chr> & <chr> & <chr>\\\\\n\\hline\n\t 2022-04-22 12:28:08 & 2022-04-22 12:51:57 & IP Address & 100 & 1429 & TRUE & 2022-04-22 12:51:58 & R\\_1FfW01qiIDYgg3j & anonymous & EN & ⋯ & NA                        & NA & NA & Very often (5 or more times per month) & NA & NA & NA & No                    & Yes & hawkinsr@nmsu.edu\\\\\n\t 2022-04-22 14:48:36 & 2022-04-22 14:55:41 & IP Address & 100 &  425 & TRUE & 2022-04-22 14:55:42 & R\\_2f2TG06j0f54tl2 & anonymous & EN & ⋯ & 9 hours or more per night & NA & NA & Very often (5 or more times per month) & NA & NA & NA & Prefer not to respond & Yes & kakakari@nmsu.edu\\\\\n\\end{tabular}\n",
            "text/plain": [
              "  startDate           endDate             status     progress duration finished\n",
              "1 2022-04-22 12:28:08 2022-04-22 12:51:57 IP Address 100      1429     TRUE    \n",
              "2 2022-04-22 14:48:36 2022-04-22 14:55:41 IP Address 100       425     TRUE    \n",
              "  recordedDate        _recordId         distributionChannel userLanguage ⋯\n",
              "1 2022-04-22 12:51:58 R_1FfW01qiIDYgg3j anonymous           EN           ⋯\n",
              "2 2022-04-22 14:55:42 R_2f2TG06j0f54tl2 anonymous           EN           ⋯\n",
              "  QID72_3                   QID72_6 QID72_4\n",
              "1 NA                        NA      NA     \n",
              "2 9 hours or more per night NA      NA     \n",
              "  QID73_1                                QID73_2 QID73_3 QID73_5\n",
              "1 Very often (5 or more times per month) NA      NA      NA     \n",
              "2 Very often (5 or more times per month) NA      NA      NA     \n",
              "  QID74                 QID75 QID77_TEXT       \n",
              "1 No                    Yes   hawkinsr@nmsu.edu\n",
              "2 Prefer not to respond Yes   kakakari@nmsu.edu"
            ]
          },
          "metadata": {}
        }
      ]
    },
    {
      "cell_type": "code",
      "source": [
        "survey_question_df <- survey_questions(surveys$id[1])\n",
        "head(survey_question_df, 2)"
      ],
      "metadata": {
        "id": "TEHSMpXO7p8P"
      },
      "execution_count": null,
      "outputs": []
    },
    {
      "cell_type": "markdown",
      "source": [
        "#### **Cleaning Data Pulled From Quatrics API**"
      ],
      "metadata": {
        "id": "us5rQI7aP65s"
      }
    },
    {
      "cell_type": "code",
      "source": [
        "demography_df = survey_response_df %>%\n",
        "transmute(DateTime = survey_response_df$recordedDate[1] %>% as.character %>% strsplit(split = \" \"), Date = DateTime[[1]][1],\n",
        "Time = DateTime[[1]][2], DateTime = NULL,\n",
        "Q1 = paste( QID1_1, ' ', QID1_2, ' ', QID1_3, ' ',QID1_4, ' ', QID1_5, ' ', QID1_4_TEXT), Q1 = gsub(\"NA\", \"\", Q1), Q1 = trimws(gsub(\"\\\\s+\", \" \", Q1)), \n",
        "Q2 = QID2,\n",
        "Q3 = QID3,\n",
        "Q4 = QID4,\n",
        "Q5 = paste( QID5_1, ' ', QID5_2, ' ', QID5_3, ' ',QID5_4, ' ', QID5_5, ' ', QID5_6, ' ', QID5_7, ' ', QID5_8, ' ', QID5_7_TEXT), Q5 = gsub(\"NA\", \"\", Q5), Q5 = trimws(gsub(\"\\\\s+\", \" \", Q5)),\n",
        "Q6.1 = QID8,\n",
        "Q6.2 = QID10,\n",
        "Q6.3 = QID9,\n",
        "Q6.4 = paste( QID11, ' ', QID11_5_TEXT), Q6.4 = gsub(\"NA\", \"\", Q6.4), Q6.4 = trimws(gsub(\"\\\\s+\", \" \", Q6.4)), \n",
        "Q6.5 = QID15_TEXT,\n",
        "Q6.6 = QID16,\n",
        "Q6.7 = QID17,\n",
        "Q6.8 = paste( QID18_1, ' ', QID18_2, ' ', QID18_3, ' ',QID18_4, ' ', QID18_5, ' ', QID18_6), Q6.8 = gsub(\"NA\", \"\", Q6.8), Q6.8 = trimws(gsub(\"\\\\s+\", \" \", Q6.8)), \n",
        "Q7 = QID14,\n",
        "Q8 = QID19,\n",
        "Q9 = QID20,\n",
        "Q10 = QID21,\n",
        "Q11 = QID22,\n",
        "Q12 = QID23,\n",
        "Q12.1 = paste( QID24_1, ' ', QID24_2, ' ', QID24_3, ' ',QID24_4, ' ', QID24_5, ' ', QID24_6), Q12.1 = gsub(\"NA\", \"\", Q12.1), Q12.1 = trimws(gsub(\"\\\\s+\", \" \", Q12.1)), \n",
        "Q12.2 = QID25,\n",
        "Q13 = QID27,\n",
        "Q13.1 = QID28,\n",
        "Q13.2 = paste( QID29_1, ' ', QID29_2, ' ', QID29_3, ' ',QID29_4, ' ', QID29_5, ' ', QID29_6, ' ', QID29_7), Q13.2 = gsub(\"NA\", \"\", Q13.2), Q13.2 = trimws(gsub(\"\\\\s+\", \" \", Q13.2)), \n",
        "Q13.3 = QID30,\n",
        "Q13.4 = QID31_TEXT,\n",
        "Q13.5 = QID32_TEXT,\n",
        "Q13.6 = QID33,\n",
        "Q14 = QID34_TEXT,\n",
        "Q15 = QID35_TEXT,\n",
        "Q16 = QID36,\n",
        "Q16.1 = QID37,\n",
        "Q17 = QID38,\n",
        "Q18 = QID39,\n",
        "Q19 = paste( QID40_1, ' ', QID40_2, ' ', QID40_3, ' ',QID40_4, ' ', QID40_5, ' ', QID40_6, ' ', QID40_5_TEXT), Q19 = gsub(\"NA\", \"\", Q19), Q19 = trimws(gsub(\"\\\\s+\", \" \", Q19)), \n",
        "Q20 = paste( QID41_1, ' ', QID41_2, ' ', QID41_3, ' ',QID41_4, ' ', QID41_5, ' ', QID41_6, ' ', QID41_7, ' ', QID41_6_TEXT), Q20 = gsub(\"NA\", \"\", Q20), Q20 = trimws(gsub(\"\\\\s+\", \" \", Q20)), \n",
        "Q21.1 = QID42,\n",
        "Q21.2 = QID43,\n",
        "Q21.3 = QID44,\n",
        "Q21.4 = QID45,\n",
        "Q21.5 =  paste( QID46, ' ', QID46_7_TEXT), Q21.5 = gsub(\"NA\", \"\", Q21.5), Q21.5 = trimws(gsub(\"\\\\s+\", \" \", Q21.5)),\n",
        "Q21.6 = paste( QID47, ' ', QID47_4_TEXT), Q21.6 = gsub(\"NA\", \"\", Q21.6), Q21.6 = trimws(gsub(\"\\\\s+\", \" \", Q21.6)),\n",
        "Q21.7 = paste( QID48, ' ', QID47_4_TEXT), Q21.7 = gsub(\"NA\", \"\", Q21.7), Q21.7 = trimws(gsub(\"\\\\s+\", \" \", Q21.7)),\n",
        "Q21.8 = paste( QID49, ' ', QID49_1_TEXT), Q21.8 = gsub(\"NA\", \"\", Q21.8), Q21.8 = trimws(gsub(\"\\\\s+\", \" \", Q21.8)),\n",
        "Q22 = QID50,\n",
        "Q22.1 = paste( QID51, ' ', QID51_1_TEXT,' ', QID51_4_TEXT), Q22.1 = gsub(\"NA\", \"\", Q22.1), Q22.1 = trimws(gsub(\"\\\\s+\", \" \", Q22.1)),\n",
        "Q22.2 = QID52_TEXT\n",
        "\n",
        "\n",
        ")"
      ],
      "metadata": {
        "id": "pbiQOkqkMICj"
      },
      "execution_count": null,
      "outputs": []
    },
    {
      "cell_type": "code",
      "source": [
        "head(demography_df)"
      ],
      "metadata": {
        "colab": {
          "base_uri": "https://localhost:8080/",
          "height": 267
        },
        "id": "UlxKDlAXBKDB",
        "outputId": "4166e49e-0a6a-499c-d68c-d97a6be36ba4"
      },
      "execution_count": null,
      "outputs": [
        {
          "output_type": "display_data",
          "data": {
            "text/html": [
              "<table class=\"dataframe\">\n",
              "<caption>A tibble: 2 × 49</caption>\n",
              "<thead>\n",
              "\t<tr><th scope=col>Date</th><th scope=col>Time</th><th scope=col>Q1</th><th scope=col>Q2</th><th scope=col>Q3</th><th scope=col>Q4</th><th scope=col>Q5</th><th scope=col>Q6.1</th><th scope=col>Q6.2</th><th scope=col>Q6.3</th><th scope=col>⋯</th><th scope=col>Q21.2</th><th scope=col>Q21.3</th><th scope=col>Q21.4</th><th scope=col>Q21.5</th><th scope=col>Q21.6</th><th scope=col>Q21.7</th><th scope=col>Q21.8</th><th scope=col>Q22</th><th scope=col>Q22.1</th><th scope=col>Q22.2</th></tr>\n",
              "\t<tr><th scope=col>&lt;chr&gt;</th><th scope=col>&lt;chr&gt;</th><th scope=col>&lt;chr&gt;</th><th scope=col>&lt;chr&gt;</th><th scope=col>&lt;chr&gt;</th><th scope=col>&lt;chr&gt;</th><th scope=col>&lt;chr&gt;</th><th scope=col>&lt;chr&gt;</th><th scope=col>&lt;chr&gt;</th><th scope=col>&lt;chr&gt;</th><th scope=col>⋯</th><th scope=col>&lt;chr&gt;</th><th scope=col>&lt;chr&gt;</th><th scope=col>&lt;chr&gt;</th><th scope=col>&lt;chr&gt;</th><th scope=col>&lt;chr&gt;</th><th scope=col>&lt;chr&gt;</th><th scope=col>&lt;chr&gt;</th><th scope=col>&lt;chr&gt;</th><th scope=col>&lt;chr&gt;</th><th scope=col>&lt;lgl&gt;</th></tr>\n",
              "</thead>\n",
              "<tbody>\n",
              "\t<tr><td>2022-04-22</td><td>12:51:58</td><td>Student        </td><td>Male  </td><td>20-24</td><td>Single</td><td>Non-Hispanic White</td><td>No</td><td>Yes</td><td>No                        </td><td>⋯</td><td>No</td><td>No</td><td>No</td><td>No</td><td>No</td><td>No</td><td>No</td><td>Yes</td><td></td><td>NA</td></tr>\n",
              "\t<tr><td>2022-04-22</td><td>12:51:58</td><td>Student Faculty</td><td>Female</td><td>20-24</td><td>Single</td><td>Non-Hispanic White</td><td>No</td><td>Yes</td><td>Yes, I am a student worker</td><td>⋯</td><td>No</td><td>No</td><td>No</td><td>No</td><td>No</td><td>No</td><td>No</td><td>Yes</td><td></td><td>NA</td></tr>\n",
              "</tbody>\n",
              "</table>\n"
            ],
            "text/markdown": "\nA tibble: 2 × 49\n\n| Date &lt;chr&gt; | Time &lt;chr&gt; | Q1 &lt;chr&gt; | Q2 &lt;chr&gt; | Q3 &lt;chr&gt; | Q4 &lt;chr&gt; | Q5 &lt;chr&gt; | Q6.1 &lt;chr&gt; | Q6.2 &lt;chr&gt; | Q6.3 &lt;chr&gt; | ⋯ ⋯ | Q21.2 &lt;chr&gt; | Q21.3 &lt;chr&gt; | Q21.4 &lt;chr&gt; | Q21.5 &lt;chr&gt; | Q21.6 &lt;chr&gt; | Q21.7 &lt;chr&gt; | Q21.8 &lt;chr&gt; | Q22 &lt;chr&gt; | Q22.1 &lt;chr&gt; | Q22.2 &lt;lgl&gt; |\n|---|---|---|---|---|---|---|---|---|---|---|---|---|---|---|---|---|---|---|---|---|\n| 2022-04-22 | 12:51:58 | Student         | Male   | 20-24 | Single | Non-Hispanic White | No | Yes | No                         | ⋯ | No | No | No | No | No | No | No | Yes | <!----> | NA |\n| 2022-04-22 | 12:51:58 | Student Faculty | Female | 20-24 | Single | Non-Hispanic White | No | Yes | Yes, I am a student worker | ⋯ | No | No | No | No | No | No | No | Yes | <!----> | NA |\n\n",
            "text/latex": "A tibble: 2 × 49\n\\begin{tabular}{lllllllllllllllllllll}\n Date & Time & Q1 & Q2 & Q3 & Q4 & Q5 & Q6.1 & Q6.2 & Q6.3 & ⋯ & Q21.2 & Q21.3 & Q21.4 & Q21.5 & Q21.6 & Q21.7 & Q21.8 & Q22 & Q22.1 & Q22.2\\\\\n <chr> & <chr> & <chr> & <chr> & <chr> & <chr> & <chr> & <chr> & <chr> & <chr> & ⋯ & <chr> & <chr> & <chr> & <chr> & <chr> & <chr> & <chr> & <chr> & <chr> & <lgl>\\\\\n\\hline\n\t 2022-04-22 & 12:51:58 & Student         & Male   & 20-24 & Single & Non-Hispanic White & No & Yes & No                         & ⋯ & No & No & No & No & No & No & No & Yes &  & NA\\\\\n\t 2022-04-22 & 12:51:58 & Student Faculty & Female & 20-24 & Single & Non-Hispanic White & No & Yes & Yes, I am a student worker & ⋯ & No & No & No & No & No & No & No & Yes &  & NA\\\\\n\\end{tabular}\n",
            "text/plain": [
              "  Date       Time     Q1              Q2     Q3    Q4     Q5                \n",
              "1 2022-04-22 12:51:58 Student         Male   20-24 Single Non-Hispanic White\n",
              "2 2022-04-22 12:51:58 Student Faculty Female 20-24 Single Non-Hispanic White\n",
              "  Q6.1 Q6.2 Q6.3                       ⋯ Q21.2 Q21.3 Q21.4 Q21.5 Q21.6 Q21.7\n",
              "1 No   Yes  No                         ⋯ No    No    No    No    No    No   \n",
              "2 No   Yes  Yes, I am a student worker ⋯ No    No    No    No    No    No   \n",
              "  Q21.8 Q22 Q22.1 Q22.2\n",
              "1 No    Yes       NA   \n",
              "2 No    Yes       NA   "
            ]
          },
          "metadata": {}
        }
      ]
    },
    {
      "cell_type": "code",
      "source": [
        "covid_19_df = survey_response_df %>%\n",
        "transmute(\n",
        "Q1 = QID53,\n",
        "Q2 = QID54,\n",
        "Q3 = QID55,\n",
        "Q4.1 = QID56,\n",
        "Q4.2 = QID57,\n",
        "Q4.3 = QID58,\n",
        "Q4.4 = QID59,\n",
        "Q4.5 = QID118,\n",
        "Q5 = paste( QID60, ' ', QID60_1_TEXT), Q5 = gsub(\"NA\", \"\", Q5), Q5 = trimws(gsub(\"\\\\s+\", \" \", Q5)), \n",
        "Q6 = QID61,\n",
        "Q6.1 = QID115,\n",
        "Q7.1 = QID62,\n",
        "Q7.2 = QID63,\n",
        "Q7.3 = QID64,\n",
        "Q7.4 = QID65,\n",
        "Q7.5 = QID99,\n",
        "Q8 = paste( QID66, ' ', QID66_1_TEXT), Q5 = gsub(\"NA\", \"\", Q5), Q5 = trimws(gsub(\"\\\\s+\", \" \", Q5)), \n",
        "Q9 = QID67,\n",
        "Q10 = QID68_TEXT\n",
        "\n",
        ")\n",
        "\n",
        "head(covid_19_df)"
      ],
      "metadata": {
        "colab": {
          "base_uri": "https://localhost:8080/",
          "height": 372
        },
        "id": "FjEIgXBAFnaU",
        "outputId": "7bf25de5-0caf-4a2e-98ed-b8cdd9b80c5c"
      },
      "execution_count": null,
      "outputs": [
        {
          "output_type": "display_data",
          "data": {
            "text/html": [
              "<table class=\"dataframe\">\n",
              "<caption>A tibble: 2 × 19</caption>\n",
              "<thead>\n",
              "\t<tr><th scope=col>Q1</th><th scope=col>Q2</th><th scope=col>Q3</th><th scope=col>Q4.1</th><th scope=col>Q4.2</th><th scope=col>Q4.3</th><th scope=col>Q4.4</th><th scope=col>Q4.5</th><th scope=col>Q5</th><th scope=col>Q6</th><th scope=col>Q6.1</th><th scope=col>Q7.1</th><th scope=col>Q7.2</th><th scope=col>Q7.3</th><th scope=col>Q7.4</th><th scope=col>Q7.5</th><th scope=col>Q8</th><th scope=col>Q9</th><th scope=col>Q10</th></tr>\n",
              "\t<tr><th scope=col>&lt;chr&gt;</th><th scope=col>&lt;chr&gt;</th><th scope=col>&lt;chr&gt;</th><th scope=col>&lt;chr&gt;</th><th scope=col>&lt;chr&gt;</th><th scope=col>&lt;chr&gt;</th><th scope=col>&lt;chr&gt;</th><th scope=col>&lt;chr&gt;</th><th scope=col>&lt;chr&gt;</th><th scope=col>&lt;chr&gt;</th><th scope=col>&lt;chr&gt;</th><th scope=col>&lt;chr&gt;</th><th scope=col>&lt;chr&gt;</th><th scope=col>&lt;chr&gt;</th><th scope=col>&lt;chr&gt;</th><th scope=col>&lt;chr&gt;</th><th scope=col>&lt;chr&gt;</th><th scope=col>&lt;chr&gt;</th><th scope=col>&lt;chr&gt;</th></tr>\n",
              "</thead>\n",
              "<tbody>\n",
              "\t<tr><td>No </td><td>No </td><td>No</td><td>Prefer not to respond</td><td>Prefer not to respond</td><td>Prefer not to respond</td><td>Prefer not to respond</td><td>Prefer not to respond</td><td>Prefer not to respond                                              </td><td>Vaccinated</td><td>2 doses</td><td>Prefer not to respond                 </td><td>Prefer not to respond                  </td><td>Prefer not to respond</td><td>Prefer not to respond</td><td>Prefer not to respond                      </td><td>Prefer not to respond   NA</td><td>Yes</td><td>Work travel, depression                                                                          </td></tr>\n",
              "\t<tr><td>Yes</td><td>Yes</td><td>No</td><td>No                   </td><td>No                   </td><td>No                   </td><td>No                   </td><td>Yes                  </td><td>Yes (Please specify [i.e. parent, sibling, etc.]) great grandparent</td><td>Vaccinated</td><td>3 doses</td><td>Yes, all living parents are vaccinated</td><td>Yes, all living siblings are vaccinated</td><td>Prefer not to respond</td><td>Prefer not to respond</td><td>Yes, all living grandparents are vaccinated</td><td>No   NA                   </td><td>No </td><td>fear of being unable to work due to quarantine but not receive any form of financial compensation</td></tr>\n",
              "</tbody>\n",
              "</table>\n"
            ],
            "text/markdown": "\nA tibble: 2 × 19\n\n| Q1 &lt;chr&gt; | Q2 &lt;chr&gt; | Q3 &lt;chr&gt; | Q4.1 &lt;chr&gt; | Q4.2 &lt;chr&gt; | Q4.3 &lt;chr&gt; | Q4.4 &lt;chr&gt; | Q4.5 &lt;chr&gt; | Q5 &lt;chr&gt; | Q6 &lt;chr&gt; | Q6.1 &lt;chr&gt; | Q7.1 &lt;chr&gt; | Q7.2 &lt;chr&gt; | Q7.3 &lt;chr&gt; | Q7.4 &lt;chr&gt; | Q7.5 &lt;chr&gt; | Q8 &lt;chr&gt; | Q9 &lt;chr&gt; | Q10 &lt;chr&gt; |\n|---|---|---|---|---|---|---|---|---|---|---|---|---|---|---|---|---|---|---|\n| No  | No  | No | Prefer not to respond | Prefer not to respond | Prefer not to respond | Prefer not to respond | Prefer not to respond | Prefer not to respond                                               | Vaccinated | 2 doses | Prefer not to respond                  | Prefer not to respond                   | Prefer not to respond | Prefer not to respond | Prefer not to respond                       | Prefer not to respond   NA | Yes | Work travel, depression                                                                           |\n| Yes | Yes | No | No                    | No                    | No                    | No                    | Yes                   | Yes (Please specify [i.e. parent, sibling, etc.]) great grandparent | Vaccinated | 3 doses | Yes, all living parents are vaccinated | Yes, all living siblings are vaccinated | Prefer not to respond | Prefer not to respond | Yes, all living grandparents are vaccinated | No   NA                    | No  | fear of being unable to work due to quarantine but not receive any form of financial compensation |\n\n",
            "text/latex": "A tibble: 2 × 19\n\\begin{tabular}{lllllllllllllllllll}\n Q1 & Q2 & Q3 & Q4.1 & Q4.2 & Q4.3 & Q4.4 & Q4.5 & Q5 & Q6 & Q6.1 & Q7.1 & Q7.2 & Q7.3 & Q7.4 & Q7.5 & Q8 & Q9 & Q10\\\\\n <chr> & <chr> & <chr> & <chr> & <chr> & <chr> & <chr> & <chr> & <chr> & <chr> & <chr> & <chr> & <chr> & <chr> & <chr> & <chr> & <chr> & <chr> & <chr>\\\\\n\\hline\n\t No  & No  & No & Prefer not to respond & Prefer not to respond & Prefer not to respond & Prefer not to respond & Prefer not to respond & Prefer not to respond                                               & Vaccinated & 2 doses & Prefer not to respond                  & Prefer not to respond                   & Prefer not to respond & Prefer not to respond & Prefer not to respond                       & Prefer not to respond   NA & Yes & Work travel, depression                                                                          \\\\\n\t Yes & Yes & No & No                    & No                    & No                    & No                    & Yes                   & Yes (Please specify {[}i.e. parent, sibling, etc.{]}) great grandparent & Vaccinated & 3 doses & Yes, all living parents are vaccinated & Yes, all living siblings are vaccinated & Prefer not to respond & Prefer not to respond & Yes, all living grandparents are vaccinated & No   NA                    & No  & fear of being unable to work due to quarantine but not receive any form of financial compensation\\\\\n\\end{tabular}\n",
            "text/plain": [
              "  Q1  Q2  Q3 Q4.1                  Q4.2                  Q4.3                 \n",
              "1 No  No  No Prefer not to respond Prefer not to respond Prefer not to respond\n",
              "2 Yes Yes No No                    No                    No                   \n",
              "  Q4.4                  Q4.5                 \n",
              "1 Prefer not to respond Prefer not to respond\n",
              "2 No                    Yes                  \n",
              "  Q5                                                                 \n",
              "1 Prefer not to respond                                              \n",
              "2 Yes (Please specify [i.e. parent, sibling, etc.]) great grandparent\n",
              "  Q6         Q6.1    Q7.1                                  \n",
              "1 Vaccinated 2 doses Prefer not to respond                 \n",
              "2 Vaccinated 3 doses Yes, all living parents are vaccinated\n",
              "  Q7.2                                    Q7.3                 \n",
              "1 Prefer not to respond                   Prefer not to respond\n",
              "2 Yes, all living siblings are vaccinated Prefer not to respond\n",
              "  Q7.4                  Q7.5                                       \n",
              "1 Prefer not to respond Prefer not to respond                      \n",
              "2 Prefer not to respond Yes, all living grandparents are vaccinated\n",
              "  Q8                         Q9 \n",
              "1 Prefer not to respond   NA Yes\n",
              "2 No   NA                    No \n",
              "  Q10                                                                                              \n",
              "1 Work travel, depression                                                                          \n",
              "2 fear of being unable to work due to quarantine but not receive any form of financial compensation"
            ]
          },
          "metadata": {}
        }
      ]
    },
    {
      "cell_type": "code",
      "source": [
        "depresssion_df = survey_response_df %>%\n",
        "transmute(\n",
        "Q1 = QID102,\n",
        "Q2 = QID103,\n",
        "Q3 = QID104,\n",
        "Q4 = QID105,\n",
        "Q5 = QID106,\n",
        "Q6 = QID107,\n",
        "Q7 = QID108,\n",
        "Q8 = QID109,\n",
        "Q9 = QID110\n",
        "\n",
        ")\n",
        "\n",
        "head(depresssion_df)"
      ],
      "metadata": {
        "colab": {
          "base_uri": "https://localhost:8080/",
          "height": 161
        },
        "id": "an9IF7WxJrUa",
        "outputId": "fbb79243-7214-4c0c-9d53-59604bb49014"
      },
      "execution_count": null,
      "outputs": [
        {
          "output_type": "display_data",
          "data": {
            "text/html": [
              "<table class=\"dataframe\">\n",
              "<caption>A tibble: 2 × 9</caption>\n",
              "<thead>\n",
              "\t<tr><th scope=col>Q1</th><th scope=col>Q2</th><th scope=col>Q3</th><th scope=col>Q4</th><th scope=col>Q5</th><th scope=col>Q6</th><th scope=col>Q7</th><th scope=col>Q8</th><th scope=col>Q9</th></tr>\n",
              "\t<tr><th scope=col>&lt;dbl&gt;</th><th scope=col>&lt;dbl&gt;</th><th scope=col>&lt;dbl&gt;</th><th scope=col>&lt;dbl&gt;</th><th scope=col>&lt;dbl&gt;</th><th scope=col>&lt;dbl&gt;</th><th scope=col>&lt;dbl&gt;</th><th scope=col>&lt;dbl&gt;</th><th scope=col>&lt;dbl&gt;</th></tr>\n",
              "</thead>\n",
              "<tbody>\n",
              "\t<tr><td>3</td><td>2</td><td>2</td><td>3</td><td>2</td><td>3</td><td>3</td><td>1</td><td>1</td></tr>\n",
              "\t<tr><td>2</td><td>3</td><td>3</td><td>3</td><td>1</td><td>1</td><td>3</td><td>1</td><td>0</td></tr>\n",
              "</tbody>\n",
              "</table>\n"
            ],
            "text/markdown": "\nA tibble: 2 × 9\n\n| Q1 &lt;dbl&gt; | Q2 &lt;dbl&gt; | Q3 &lt;dbl&gt; | Q4 &lt;dbl&gt; | Q5 &lt;dbl&gt; | Q6 &lt;dbl&gt; | Q7 &lt;dbl&gt; | Q8 &lt;dbl&gt; | Q9 &lt;dbl&gt; |\n|---|---|---|---|---|---|---|---|---|\n| 3 | 2 | 2 | 3 | 2 | 3 | 3 | 1 | 1 |\n| 2 | 3 | 3 | 3 | 1 | 1 | 3 | 1 | 0 |\n\n",
            "text/latex": "A tibble: 2 × 9\n\\begin{tabular}{lllllllll}\n Q1 & Q2 & Q3 & Q4 & Q5 & Q6 & Q7 & Q8 & Q9\\\\\n <dbl> & <dbl> & <dbl> & <dbl> & <dbl> & <dbl> & <dbl> & <dbl> & <dbl>\\\\\n\\hline\n\t 3 & 2 & 2 & 3 & 2 & 3 & 3 & 1 & 1\\\\\n\t 2 & 3 & 3 & 3 & 1 & 1 & 3 & 1 & 0\\\\\n\\end{tabular}\n",
            "text/plain": [
              "  Q1 Q2 Q3 Q4 Q5 Q6 Q7 Q8 Q9\n",
              "1 3  2  2  3  2  3  3  1  1 \n",
              "2 2  3  3  3  1  1  3  1  0 "
            ]
          },
          "metadata": {}
        }
      ]
    },
    {
      "cell_type": "code",
      "source": [
        "sleep_df = survey_response_df %>%\n",
        "transmute(\n",
        "Q1 = QID71,\n",
        "Q2 = paste( QID72_1, ' ', QID72_2, ' ', QID72_3, ' ',QID72_4), Q2 = gsub(\"NA\", \"\", Q2), Q2 = trimws(gsub(\"\\\\s+\", \" \", Q2)), \n",
        "Q3 = paste( QID73_1, ' ', QID73_2, ' ', QID73_3, ' ',QID73_5), Q3 = gsub(\"NA\", \"\", Q3), Q3 = trimws(gsub(\"\\\\s+\", \" \", Q3)), \n",
        "Q4 = QID74,\n",
        "Compensation = QID75,\n",
        "Email = QID77_TEXT\n",
        ")\n",
        "\n",
        "head(sleep_df)"
      ],
      "metadata": {
        "colab": {
          "base_uri": "https://localhost:8080/",
          "height": 195
        },
        "id": "KdjFE7_GKSnC",
        "outputId": "e92280c6-cf48-4740-9384-425de05c4f09"
      },
      "execution_count": 211,
      "outputs": [
        {
          "output_type": "display_data",
          "data": {
            "text/html": [
              "<table class=\"dataframe\">\n",
              "<caption>A tibble: 2 × 6</caption>\n",
              "<thead>\n",
              "\t<tr><th scope=col>Q1</th><th scope=col>Q2</th><th scope=col>Q3</th><th scope=col>Q4</th><th scope=col>Compensation</th><th scope=col>Email</th></tr>\n",
              "\t<tr><th scope=col>&lt;chr&gt;</th><th scope=col>&lt;chr&gt;</th><th scope=col>&lt;chr&gt;</th><th scope=col>&lt;chr&gt;</th><th scope=col>&lt;chr&gt;</th><th scope=col>&lt;chr&gt;</th></tr>\n",
              "</thead>\n",
              "<tbody>\n",
              "\t<tr><td>Yes, not sleeping as long each night                             </td><td>6 hours or less per night                       </td><td>Very often (5 or more times per month)</td><td>No                   </td><td>Yes</td><td>hawkinsr@nmsu.edu</td></tr>\n",
              "\t<tr><td>Sleeping about the same amount each night, but sleep is disturbed</td><td>7 to 8 hours per night 9 hours or more per night</td><td>Very often (5 or more times per month)</td><td>Prefer not to respond</td><td>Yes</td><td>kakakari@nmsu.edu</td></tr>\n",
              "</tbody>\n",
              "</table>\n"
            ],
            "text/markdown": "\nA tibble: 2 × 6\n\n| Q1 &lt;chr&gt; | Q2 &lt;chr&gt; | Q3 &lt;chr&gt; | Q4 &lt;chr&gt; | Compensation &lt;chr&gt; | Email &lt;chr&gt; |\n|---|---|---|---|---|---|\n| Yes, not sleeping as long each night                              | 6 hours or less per night                        | Very often (5 or more times per month) | No                    | Yes | hawkinsr@nmsu.edu |\n| Sleeping about the same amount each night, but sleep is disturbed | 7 to 8 hours per night 9 hours or more per night | Very often (5 or more times per month) | Prefer not to respond | Yes | kakakari@nmsu.edu |\n\n",
            "text/latex": "A tibble: 2 × 6\n\\begin{tabular}{llllll}\n Q1 & Q2 & Q3 & Q4 & Compensation & Email\\\\\n <chr> & <chr> & <chr> & <chr> & <chr> & <chr>\\\\\n\\hline\n\t Yes, not sleeping as long each night                              & 6 hours or less per night                        & Very often (5 or more times per month) & No                    & Yes & hawkinsr@nmsu.edu\\\\\n\t Sleeping about the same amount each night, but sleep is disturbed & 7 to 8 hours per night 9 hours or more per night & Very often (5 or more times per month) & Prefer not to respond & Yes & kakakari@nmsu.edu\\\\\n\\end{tabular}\n",
            "text/plain": [
              "  Q1                                                               \n",
              "1 Yes, not sleeping as long each night                             \n",
              "2 Sleeping about the same amount each night, but sleep is disturbed\n",
              "  Q2                                              \n",
              "1 6 hours or less per night                       \n",
              "2 7 to 8 hours per night 9 hours or more per night\n",
              "  Q3                                     Q4                    Compensation\n",
              "1 Very often (5 or more times per month) No                    Yes         \n",
              "2 Very often (5 or more times per month) Prefer not to respond Yes         \n",
              "  Email            \n",
              "1 hawkinsr@nmsu.edu\n",
              "2 kakakari@nmsu.edu"
            ]
          },
          "metadata": {}
        }
      ]
    },
    {
      "cell_type": "code",
      "source": [
        "data_df = cbind(demography_df, covid_19_df, depresssion_df, sleep_df)"
      ],
      "metadata": {
        "id": "Q1xhhUXzMGUB"
      },
      "execution_count": null,
      "outputs": []
    },
    {
      "cell_type": "code",
      "source": [
        "head(data_df)"
      ],
      "metadata": {
        "colab": {
          "base_uri": "https://localhost:8080/",
          "height": 476
        },
        "id": "oMA_BUqzMofL",
        "outputId": "a0de52f6-ab19-45c8-bd53-42477cba782c"
      },
      "execution_count": null,
      "outputs": [
        {
          "output_type": "display_data",
          "data": {
            "text/html": [
              "<table class=\"dataframe\">\n",
              "<caption>A data.frame: 2 × 83</caption>\n",
              "<thead>\n",
              "\t<tr><th></th><th scope=col>Date</th><th scope=col>Time</th><th scope=col>Q1</th><th scope=col>Q2</th><th scope=col>Q3</th><th scope=col>Q4</th><th scope=col>Q5</th><th scope=col>Q6.1</th><th scope=col>Q6.2</th><th scope=col>Q6.3</th><th scope=col>⋯</th><th scope=col>Q6</th><th scope=col>Q7</th><th scope=col>Q8</th><th scope=col>Q9</th><th scope=col>Q1</th><th scope=col>Q2</th><th scope=col>Q3</th><th scope=col>Q4</th><th scope=col>Compensation</th><th scope=col>Email</th></tr>\n",
              "\t<tr><th></th><th scope=col>&lt;chr&gt;</th><th scope=col>&lt;chr&gt;</th><th scope=col>&lt;chr&gt;</th><th scope=col>&lt;chr&gt;</th><th scope=col>&lt;chr&gt;</th><th scope=col>&lt;chr&gt;</th><th scope=col>&lt;chr&gt;</th><th scope=col>&lt;chr&gt;</th><th scope=col>&lt;chr&gt;</th><th scope=col>&lt;chr&gt;</th><th scope=col>⋯</th><th scope=col>&lt;dbl&gt;</th><th scope=col>&lt;dbl&gt;</th><th scope=col>&lt;dbl&gt;</th><th scope=col>&lt;dbl&gt;</th><th scope=col>&lt;chr&gt;</th><th scope=col>&lt;chr&gt;</th><th scope=col>&lt;chr&gt;</th><th scope=col>&lt;chr&gt;</th><th scope=col>&lt;chr&gt;</th><th scope=col>&lt;chr&gt;</th></tr>\n",
              "</thead>\n",
              "<tbody>\n",
              "\t<tr><th scope=row>1</th><td>2022-04-22</td><td>12:51:58</td><td>Student        </td><td>Male  </td><td>20-24</td><td>Single</td><td>Non-Hispanic White</td><td>No</td><td>Yes</td><td>No                        </td><td>⋯</td><td>3</td><td>3</td><td>1</td><td>1</td><td>Yes, not sleeping as long each night                             </td><td>6 hours or less per night                       </td><td>Very often (5 or more times per month)   NA   NA   NA</td><td>No                   </td><td>Yes</td><td>hawkinsr@nmsu.edu</td></tr>\n",
              "\t<tr><th scope=row>2</th><td>2022-04-22</td><td>12:51:58</td><td>Student Faculty</td><td>Female</td><td>20-24</td><td>Single</td><td>Non-Hispanic White</td><td>No</td><td>Yes</td><td>Yes, I am a student worker</td><td>⋯</td><td>1</td><td>3</td><td>1</td><td>0</td><td>Sleeping about the same amount each night, but sleep is disturbed</td><td>7 to 8 hours per night 9 hours or more per night</td><td>Very often (5 or more times per month)   NA   NA   NA</td><td>Prefer not to respond</td><td>Yes</td><td>kakakari@nmsu.edu</td></tr>\n",
              "</tbody>\n",
              "</table>\n"
            ],
            "text/markdown": "\nA data.frame: 2 × 83\n\n| <!--/--> | Date &lt;chr&gt; | Time &lt;chr&gt; | Q1 &lt;chr&gt; | Q2 &lt;chr&gt; | Q3 &lt;chr&gt; | Q4 &lt;chr&gt; | Q5 &lt;chr&gt; | Q6.1 &lt;chr&gt; | Q6.2 &lt;chr&gt; | Q6.3 &lt;chr&gt; | ⋯ ⋯ | Q6 &lt;dbl&gt; | Q7 &lt;dbl&gt; | Q8 &lt;dbl&gt; | Q9 &lt;dbl&gt; | Q1 &lt;chr&gt; | Q2 &lt;chr&gt; | Q3 &lt;chr&gt; | Q4 &lt;chr&gt; | Compensation &lt;chr&gt; | Email &lt;chr&gt; |\n|---|---|---|---|---|---|---|---|---|---|---|---|---|---|---|---|---|---|---|---|---|---|\n| 1 | 2022-04-22 | 12:51:58 | Student         | Male   | 20-24 | Single | Non-Hispanic White | No | Yes | No                         | ⋯ | 3 | 3 | 1 | 1 | Yes, not sleeping as long each night                              | 6 hours or less per night                        | Very often (5 or more times per month)   NA   NA   NA | No                    | Yes | hawkinsr@nmsu.edu |\n| 2 | 2022-04-22 | 12:51:58 | Student Faculty | Female | 20-24 | Single | Non-Hispanic White | No | Yes | Yes, I am a student worker | ⋯ | 1 | 3 | 1 | 0 | Sleeping about the same amount each night, but sleep is disturbed | 7 to 8 hours per night 9 hours or more per night | Very often (5 or more times per month)   NA   NA   NA | Prefer not to respond | Yes | kakakari@nmsu.edu |\n\n",
            "text/latex": "A data.frame: 2 × 83\n\\begin{tabular}{r|lllllllllllllllllllll}\n  & Date & Time & Q1 & Q2 & Q3 & Q4 & Q5 & Q6.1 & Q6.2 & Q6.3 & ⋯ & Q6 & Q7 & Q8 & Q9 & Q1 & Q2 & Q3 & Q4 & Compensation & Email\\\\\n  & <chr> & <chr> & <chr> & <chr> & <chr> & <chr> & <chr> & <chr> & <chr> & <chr> & ⋯ & <dbl> & <dbl> & <dbl> & <dbl> & <chr> & <chr> & <chr> & <chr> & <chr> & <chr>\\\\\n\\hline\n\t1 & 2022-04-22 & 12:51:58 & Student         & Male   & 20-24 & Single & Non-Hispanic White & No & Yes & No                         & ⋯ & 3 & 3 & 1 & 1 & Yes, not sleeping as long each night                              & 6 hours or less per night                        & Very often (5 or more times per month)   NA   NA   NA & No                    & Yes & hawkinsr@nmsu.edu\\\\\n\t2 & 2022-04-22 & 12:51:58 & Student Faculty & Female & 20-24 & Single & Non-Hispanic White & No & Yes & Yes, I am a student worker & ⋯ & 1 & 3 & 1 & 0 & Sleeping about the same amount each night, but sleep is disturbed & 7 to 8 hours per night 9 hours or more per night & Very often (5 or more times per month)   NA   NA   NA & Prefer not to respond & Yes & kakakari@nmsu.edu\\\\\n\\end{tabular}\n",
            "text/plain": [
              "  Date       Time     Q1              Q2     Q3    Q4     Q5                \n",
              "1 2022-04-22 12:51:58 Student         Male   20-24 Single Non-Hispanic White\n",
              "2 2022-04-22 12:51:58 Student Faculty Female 20-24 Single Non-Hispanic White\n",
              "  Q6.1 Q6.2 Q6.3                       ⋯ Q6 Q7 Q8 Q9\n",
              "1 No   Yes  No                         ⋯ 3  3  1  1 \n",
              "2 No   Yes  Yes, I am a student worker ⋯ 1  3  1  0 \n",
              "  Q1                                                               \n",
              "1 Yes, not sleeping as long each night                             \n",
              "2 Sleeping about the same amount each night, but sleep is disturbed\n",
              "  Q2                                              \n",
              "1 6 hours or less per night                       \n",
              "2 7 to 8 hours per night 9 hours or more per night\n",
              "  Q3                                                    Q4                   \n",
              "1 Very often (5 or more times per month)   NA   NA   NA No                   \n",
              "2 Very often (5 or more times per month)   NA   NA   NA Prefer not to respond\n",
              "  Compensation Email            \n",
              "1 Yes          hawkinsr@nmsu.edu\n",
              "2 Yes          kakakari@nmsu.edu"
            ]
          },
          "metadata": {}
        }
      ]
    },
    {
      "cell_type": "code",
      "source": [
        "dim(data_df)"
      ],
      "metadata": {
        "colab": {
          "base_uri": "https://localhost:8080/",
          "height": 34
        },
        "id": "Sd9wJ7yBNPqt",
        "outputId": "20eef2aa-2262-4ac2-bfcf-c3d5e8929540"
      },
      "execution_count": null,
      "outputs": [
        {
          "output_type": "display_data",
          "data": {
            "text/html": [
              "<style>\n",
              ".list-inline {list-style: none; margin:0; padding: 0}\n",
              ".list-inline>li {display: inline-block}\n",
              ".list-inline>li:not(:last-child)::after {content: \"\\00b7\"; padding: 0 .5ex}\n",
              "</style>\n",
              "<ol class=list-inline><li>2</li><li>83</li></ol>\n"
            ],
            "text/markdown": "1. 2\n2. 83\n\n\n",
            "text/latex": "\\begin{enumerate*}\n\\item 2\n\\item 83\n\\end{enumerate*}\n",
            "text/plain": [
              "[1]  2 83"
            ]
          },
          "metadata": {}
        }
      ]
    },
    {
      "cell_type": "markdown",
      "source": [
        "#### **Automation Integrity**"
      ],
      "metadata": {
        "id": "G0I1dDFalbva"
      }
    },
    {
      "cell_type": "code",
      "source": [
        "# get file that is used in setting up this automation\n",
        "suppressMessages({integrity_df = read_excel(\"Covid_Integrity_Apr_23_5_09_Am.xlsx\", col_types = \"text\")})\n",
        "head(integrity_df)"
      ],
      "metadata": {
        "colab": {
          "base_uri": "https://localhost:8080/",
          "height": 480
        },
        "id": "tKgoDkTXN0fT",
        "outputId": "8ac17318-c1c7-417e-b297-32cf747f7b41"
      },
      "execution_count": null,
      "outputs": [
        {
          "output_type": "display_data",
          "data": {
            "text/html": [
              "<table class=\"dataframe\">\n",
              "<caption>A tibble: 6 × 84</caption>\n",
              "<thead>\n",
              "\t<tr><th scope=col>22XXX = Undergraduate students</th><th scope=col>...2</th><th scope=col>...3</th><th scope=col>...4</th><th scope=col>55XXX = Graduate students</th><th scope=col>...6</th><th scope=col>...7</th><th scope=col>77XXX = Faculty</th><th scope=col>...9</th><th scope=col>99001 = Staff</th><th scope=col>⋯</th><th scope=col>...75</th><th scope=col>...76</th><th scope=col>...77</th><th scope=col>...78</th><th scope=col>...79</th><th scope=col>...80</th><th scope=col>...81</th><th scope=col>...82</th><th scope=col>...83</th><th scope=col>...84</th></tr>\n",
              "\t<tr><th scope=col>&lt;chr&gt;</th><th scope=col>&lt;chr&gt;</th><th scope=col>&lt;chr&gt;</th><th scope=col>&lt;chr&gt;</th><th scope=col>&lt;chr&gt;</th><th scope=col>&lt;chr&gt;</th><th scope=col>&lt;chr&gt;</th><th scope=col>&lt;chr&gt;</th><th scope=col>&lt;chr&gt;</th><th scope=col>&lt;chr&gt;</th><th scope=col>⋯</th><th scope=col>&lt;chr&gt;</th><th scope=col>&lt;chr&gt;</th><th scope=col>&lt;chr&gt;</th><th scope=col>&lt;chr&gt;</th><th scope=col>&lt;chr&gt;</th><th scope=col>&lt;chr&gt;</th><th scope=col>&lt;chr&gt;</th><th scope=col>&lt;chr&gt;</th><th scope=col>&lt;chr&gt;</th><th scope=col>&lt;chr&gt;</th></tr>\n",
              "</thead>\n",
              "<tbody>\n",
              "\t<tr><td>NA       </td><td>NA     </td><td>NA     </td><td>I: Demographics</td><td>NA  </td><td>NA   </td><td>NA    </td><td>NA                </td><td>NA  </td><td>NA  </td><td>⋯</td><td>NA </td><td>NA </td><td>NA </td><td>NA </td><td>IV: Sleep Disorder Questionnaire    </td><td>NA                       </td><td>NA                                    </td><td>NA</td><td>NA          </td><td>NA               </td></tr>\n",
              "\t<tr><td>Response#</td><td>Date   </td><td>Time   </td><td>Q1             </td><td>Q2  </td><td>Q3   </td><td>Q4    </td><td>Q.5               </td><td>Q6.1</td><td>Q6.2</td><td>⋯</td><td>Q6 </td><td>Q7 </td><td>Q8 </td><td>Q9 </td><td>Q1                                  </td><td>Q2                       </td><td>Q3                                    </td><td>Q4</td><td>Compensation</td><td>Email            </td></tr>\n",
              "\t<tr><td>22001.0  </td><td>44673.0</td><td>12:52pm</td><td>Student        </td><td>Male</td><td>20-24</td><td>Single</td><td>Non-Hispanic White</td><td>No  </td><td>Yes </td><td>⋯</td><td>3.0</td><td>3.0</td><td>1.0</td><td>1.0</td><td>Yes, not sleeping as long each night</td><td>6 hours or less per night</td><td>Very often (5 or more times per month)</td><td>No</td><td>Yes         </td><td>hawkinsr@nmsu.edu</td></tr>\n",
              "\t<tr><td>22002.0  </td><td>NA     </td><td>NA     </td><td>NA             </td><td>NA  </td><td>NA   </td><td>NA    </td><td>NA                </td><td>NA  </td><td>NA  </td><td>⋯</td><td>NA </td><td>NA </td><td>NA </td><td>NA </td><td>NA                                  </td><td>NA                       </td><td>NA                                    </td><td>NA</td><td>NA          </td><td>NA               </td></tr>\n",
              "\t<tr><td>22003.0  </td><td>NA     </td><td>NA     </td><td>NA             </td><td>NA  </td><td>NA   </td><td>NA    </td><td>NA                </td><td>NA  </td><td>NA  </td><td>⋯</td><td>NA </td><td>NA </td><td>NA </td><td>NA </td><td>NA                                  </td><td>NA                       </td><td>NA                                    </td><td>NA</td><td>NA          </td><td>NA               </td></tr>\n",
              "\t<tr><td>22004.0  </td><td>NA     </td><td>NA     </td><td>NA             </td><td>NA  </td><td>NA   </td><td>NA    </td><td>NA                </td><td>NA  </td><td>NA  </td><td>⋯</td><td>NA </td><td>NA </td><td>NA </td><td>NA </td><td>NA                                  </td><td>NA                       </td><td>NA                                    </td><td>NA</td><td>NA          </td><td>NA               </td></tr>\n",
              "</tbody>\n",
              "</table>\n"
            ],
            "text/markdown": "\nA tibble: 6 × 84\n\n| 22XXX = Undergraduate students &lt;chr&gt; | ...2 &lt;chr&gt; | ...3 &lt;chr&gt; | ...4 &lt;chr&gt; | 55XXX = Graduate students &lt;chr&gt; | ...6 &lt;chr&gt; | ...7 &lt;chr&gt; | 77XXX = Faculty &lt;chr&gt; | ...9 &lt;chr&gt; | 99001 = Staff &lt;chr&gt; | ⋯ ⋯ | ...75 &lt;chr&gt; | ...76 &lt;chr&gt; | ...77 &lt;chr&gt; | ...78 &lt;chr&gt; | ...79 &lt;chr&gt; | ...80 &lt;chr&gt; | ...81 &lt;chr&gt; | ...82 &lt;chr&gt; | ...83 &lt;chr&gt; | ...84 &lt;chr&gt; |\n|---|---|---|---|---|---|---|---|---|---|---|---|---|---|---|---|---|---|---|---|---|\n| NA        | NA      | NA      | I: Demographics | NA   | NA    | NA     | NA                 | NA   | NA   | ⋯ | NA  | NA  | NA  | NA  | IV: Sleep Disorder Questionnaire     | NA                        | NA                                     | NA | NA           | NA                |\n| Response# | Date    | Time    | Q1              | Q2   | Q3    | Q4     | Q.5                | Q6.1 | Q6.2 | ⋯ | Q6  | Q7  | Q8  | Q9  | Q1                                   | Q2                        | Q3                                     | Q4 | Compensation | Email             |\n| 22001.0   | 44673.0 | 12:52pm | Student         | Male | 20-24 | Single | Non-Hispanic White | No   | Yes  | ⋯ | 3.0 | 3.0 | 1.0 | 1.0 | Yes, not sleeping as long each night | 6 hours or less per night | Very often (5 or more times per month) | No | Yes          | hawkinsr@nmsu.edu |\n| 22002.0   | NA      | NA      | NA              | NA   | NA    | NA     | NA                 | NA   | NA   | ⋯ | NA  | NA  | NA  | NA  | NA                                   | NA                        | NA                                     | NA | NA           | NA                |\n| 22003.0   | NA      | NA      | NA              | NA   | NA    | NA     | NA                 | NA   | NA   | ⋯ | NA  | NA  | NA  | NA  | NA                                   | NA                        | NA                                     | NA | NA           | NA                |\n| 22004.0   | NA      | NA      | NA              | NA   | NA    | NA     | NA                 | NA   | NA   | ⋯ | NA  | NA  | NA  | NA  | NA                                   | NA                        | NA                                     | NA | NA           | NA                |\n\n",
            "text/latex": "A tibble: 6 × 84\n\\begin{tabular}{lllllllllllllllllllll}\n 22XXX = Undergraduate students & ...2 & ...3 & ...4 & 55XXX = Graduate students & ...6 & ...7 & 77XXX = Faculty & ...9 & 99001 = Staff & ⋯ & ...75 & ...76 & ...77 & ...78 & ...79 & ...80 & ...81 & ...82 & ...83 & ...84\\\\\n <chr> & <chr> & <chr> & <chr> & <chr> & <chr> & <chr> & <chr> & <chr> & <chr> & ⋯ & <chr> & <chr> & <chr> & <chr> & <chr> & <chr> & <chr> & <chr> & <chr> & <chr>\\\\\n\\hline\n\t NA        & NA      & NA      & I: Demographics & NA   & NA    & NA     & NA                 & NA   & NA   & ⋯ & NA  & NA  & NA  & NA  & IV: Sleep Disorder Questionnaire     & NA                        & NA                                     & NA & NA           & NA               \\\\\n\t Response\\# & Date    & Time    & Q1              & Q2   & Q3    & Q4     & Q.5                & Q6.1 & Q6.2 & ⋯ & Q6  & Q7  & Q8  & Q9  & Q1                                   & Q2                        & Q3                                     & Q4 & Compensation & Email            \\\\\n\t 22001.0   & 44673.0 & 12:52pm & Student         & Male & 20-24 & Single & Non-Hispanic White & No   & Yes  & ⋯ & 3.0 & 3.0 & 1.0 & 1.0 & Yes, not sleeping as long each night & 6 hours or less per night & Very often (5 or more times per month) & No & Yes          & hawkinsr@nmsu.edu\\\\\n\t 22002.0   & NA      & NA      & NA              & NA   & NA    & NA     & NA                 & NA   & NA   & ⋯ & NA  & NA  & NA  & NA  & NA                                   & NA                        & NA                                     & NA & NA           & NA               \\\\\n\t 22003.0   & NA      & NA      & NA              & NA   & NA    & NA     & NA                 & NA   & NA   & ⋯ & NA  & NA  & NA  & NA  & NA                                   & NA                        & NA                                     & NA & NA           & NA               \\\\\n\t 22004.0   & NA      & NA      & NA              & NA   & NA    & NA     & NA                 & NA   & NA   & ⋯ & NA  & NA  & NA  & NA  & NA                                   & NA                        & NA                                     & NA & NA           & NA               \\\\\n\\end{tabular}\n",
            "text/plain": [
              "  22XXX = Undergraduate students ...2    ...3    ...4           \n",
              "1 NA                             NA      NA      I: Demographics\n",
              "2 Response#                      Date    Time    Q1             \n",
              "3 22001.0                        44673.0 12:52pm Student        \n",
              "4 22002.0                        NA      NA      NA             \n",
              "5 22003.0                        NA      NA      NA             \n",
              "6 22004.0                        NA      NA      NA             \n",
              "  55XXX = Graduate students ...6  ...7   77XXX = Faculty    ...9 99001 = Staff\n",
              "1 NA                        NA    NA     NA                 NA   NA           \n",
              "2 Q2                        Q3    Q4     Q.5                Q6.1 Q6.2         \n",
              "3 Male                      20-24 Single Non-Hispanic White No   Yes          \n",
              "4 NA                        NA    NA     NA                 NA   NA           \n",
              "5 NA                        NA    NA     NA                 NA   NA           \n",
              "6 NA                        NA    NA     NA                 NA   NA           \n",
              "  ⋯ ...75 ...76 ...77 ...78 ...79                               \n",
              "1 ⋯ NA    NA    NA    NA    IV: Sleep Disorder Questionnaire    \n",
              "2 ⋯ Q6    Q7    Q8    Q9    Q1                                  \n",
              "3 ⋯ 3.0   3.0   1.0   1.0   Yes, not sleeping as long each night\n",
              "4 ⋯ NA    NA    NA    NA    NA                                  \n",
              "5 ⋯ NA    NA    NA    NA    NA                                  \n",
              "6 ⋯ NA    NA    NA    NA    NA                                  \n",
              "  ...80                     ...81                                  ...82\n",
              "1 NA                        NA                                     NA   \n",
              "2 Q2                        Q3                                     Q4   \n",
              "3 6 hours or less per night Very often (5 or more times per month) No   \n",
              "4 NA                        NA                                     NA   \n",
              "5 NA                        NA                                     NA   \n",
              "6 NA                        NA                                     NA   \n",
              "  ...83        ...84            \n",
              "1 NA           NA               \n",
              "2 Compensation Email            \n",
              "3 Yes          hawkinsr@nmsu.edu\n",
              "4 NA           NA               \n",
              "5 NA           NA               \n",
              "6 NA           NA               "
            ]
          },
          "metadata": {}
        }
      ]
    },
    {
      "cell_type": "code",
      "source": [
        "intergrity_vec = integrity_df[2,] %>% t()\n",
        "rownames(intergrity_vec) = NULL\n",
        "intergrity_vec"
      ],
      "metadata": {
        "id": "gX73-NnXOVoO"
      },
      "execution_count": null,
      "outputs": []
    },
    {
      "cell_type": "code",
      "source": [
        "# get latest file downloaded from one_drive\n",
        "suppressMessages({one_drive_df = read_excel(\"Prevalence of Depression and Sleep Disorders in New Mexico State University Populations during COVID-19 - Response Tracker.xlsx\", col_types = \"text\")})\n",
        "head(one_drive_df)"
      ],
      "metadata": {
        "colab": {
          "base_uri": "https://localhost:8080/",
          "height": 480
        },
        "id": "QXtckGziZtQ_",
        "outputId": "1076bbae-7e3c-45f2-90ca-e46c7d60107b"
      },
      "execution_count": 149,
      "outputs": [
        {
          "output_type": "display_data",
          "data": {
            "text/html": [
              "<table class=\"dataframe\">\n",
              "<caption>A tibble: 6 × 84</caption>\n",
              "<thead>\n",
              "\t<tr><th scope=col>22XXX = Undergraduate students</th><th scope=col>...2</th><th scope=col>...3</th><th scope=col>...4</th><th scope=col>55XXX = Graduate students</th><th scope=col>...6</th><th scope=col>...7</th><th scope=col>77XXX = Faculty</th><th scope=col>...9</th><th scope=col>99001 = Staff</th><th scope=col>⋯</th><th scope=col>...75</th><th scope=col>...76</th><th scope=col>...77</th><th scope=col>...78</th><th scope=col>...79</th><th scope=col>...80</th><th scope=col>...81</th><th scope=col>...82</th><th scope=col>...83</th><th scope=col>...84</th></tr>\n",
              "\t<tr><th scope=col>&lt;chr&gt;</th><th scope=col>&lt;chr&gt;</th><th scope=col>&lt;chr&gt;</th><th scope=col>&lt;chr&gt;</th><th scope=col>&lt;chr&gt;</th><th scope=col>&lt;chr&gt;</th><th scope=col>&lt;chr&gt;</th><th scope=col>&lt;chr&gt;</th><th scope=col>&lt;chr&gt;</th><th scope=col>&lt;chr&gt;</th><th scope=col>⋯</th><th scope=col>&lt;chr&gt;</th><th scope=col>&lt;chr&gt;</th><th scope=col>&lt;chr&gt;</th><th scope=col>&lt;chr&gt;</th><th scope=col>&lt;chr&gt;</th><th scope=col>&lt;chr&gt;</th><th scope=col>&lt;chr&gt;</th><th scope=col>&lt;chr&gt;</th><th scope=col>&lt;chr&gt;</th><th scope=col>&lt;chr&gt;</th></tr>\n",
              "</thead>\n",
              "<tbody>\n",
              "\t<tr><td>NA        </td><td>NA   </td><td>NA     </td><td>I: Demographics</td><td>NA  </td><td>NA   </td><td>NA    </td><td>NA                </td><td>NA  </td><td>NA  </td><td>⋯</td><td>NA</td><td>NA</td><td>NA</td><td>NA</td><td>IV: Sleep Disorder Questionnaire    </td><td>NA                       </td><td>NA                                    </td><td>NA</td><td>NA          </td><td>NA               </td></tr>\n",
              "\t<tr><td>ResponseNo</td><td>Date </td><td>Time   </td><td>Q1             </td><td>Q2  </td><td>Q3   </td><td>Q4    </td><td>Q.5               </td><td>Q6.1</td><td>Q6.2</td><td>⋯</td><td>Q6</td><td>Q7</td><td>Q8</td><td>Q9</td><td>Q1                                  </td><td>Q2                       </td><td>Q3                                    </td><td>Q4</td><td>Compensation</td><td>Email            </td></tr>\n",
              "\t<tr><td>22001     </td><td>44673</td><td>12:52pm</td><td>Student        </td><td>Male</td><td>20-24</td><td>Single</td><td>Non-Hispanic White</td><td>No  </td><td>Yes </td><td>⋯</td><td>3 </td><td>3 </td><td>1 </td><td>1 </td><td>Yes, not sleeping as long each night</td><td>6 hours or less per night</td><td>Very often (5 or more times per month)</td><td>No</td><td>Yes         </td><td>hawkinsr@nmsu.edu</td></tr>\n",
              "\t<tr><td>22002     </td><td>NA   </td><td>NA     </td><td>NA             </td><td>NA  </td><td>NA   </td><td>NA    </td><td>NA                </td><td>NA  </td><td>NA  </td><td>⋯</td><td>NA</td><td>NA</td><td>NA</td><td>NA</td><td>NA                                  </td><td>NA                       </td><td>NA                                    </td><td>NA</td><td>NA          </td><td>NA               </td></tr>\n",
              "\t<tr><td>22003     </td><td>NA   </td><td>NA     </td><td>NA             </td><td>NA  </td><td>NA   </td><td>NA    </td><td>NA                </td><td>NA  </td><td>NA  </td><td>⋯</td><td>NA</td><td>NA</td><td>NA</td><td>NA</td><td>NA                                  </td><td>NA                       </td><td>NA                                    </td><td>NA</td><td>NA          </td><td>NA               </td></tr>\n",
              "\t<tr><td>22004     </td><td>NA   </td><td>NA     </td><td>NA             </td><td>NA  </td><td>NA   </td><td>NA    </td><td>NA                </td><td>NA  </td><td>NA  </td><td>⋯</td><td>NA</td><td>NA</td><td>NA</td><td>NA</td><td>NA                                  </td><td>NA                       </td><td>NA                                    </td><td>NA</td><td>NA          </td><td>NA               </td></tr>\n",
              "</tbody>\n",
              "</table>\n"
            ],
            "text/markdown": "\nA tibble: 6 × 84\n\n| 22XXX = Undergraduate students &lt;chr&gt; | ...2 &lt;chr&gt; | ...3 &lt;chr&gt; | ...4 &lt;chr&gt; | 55XXX = Graduate students &lt;chr&gt; | ...6 &lt;chr&gt; | ...7 &lt;chr&gt; | 77XXX = Faculty &lt;chr&gt; | ...9 &lt;chr&gt; | 99001 = Staff &lt;chr&gt; | ⋯ ⋯ | ...75 &lt;chr&gt; | ...76 &lt;chr&gt; | ...77 &lt;chr&gt; | ...78 &lt;chr&gt; | ...79 &lt;chr&gt; | ...80 &lt;chr&gt; | ...81 &lt;chr&gt; | ...82 &lt;chr&gt; | ...83 &lt;chr&gt; | ...84 &lt;chr&gt; |\n|---|---|---|---|---|---|---|---|---|---|---|---|---|---|---|---|---|---|---|---|---|\n| NA         | NA    | NA      | I: Demographics | NA   | NA    | NA     | NA                 | NA   | NA   | ⋯ | NA | NA | NA | NA | IV: Sleep Disorder Questionnaire     | NA                        | NA                                     | NA | NA           | NA                |\n| ResponseNo | Date  | Time    | Q1              | Q2   | Q3    | Q4     | Q.5                | Q6.1 | Q6.2 | ⋯ | Q6 | Q7 | Q8 | Q9 | Q1                                   | Q2                        | Q3                                     | Q4 | Compensation | Email             |\n| 22001      | 44673 | 12:52pm | Student         | Male | 20-24 | Single | Non-Hispanic White | No   | Yes  | ⋯ | 3  | 3  | 1  | 1  | Yes, not sleeping as long each night | 6 hours or less per night | Very often (5 or more times per month) | No | Yes          | hawkinsr@nmsu.edu |\n| 22002      | NA    | NA      | NA              | NA   | NA    | NA     | NA                 | NA   | NA   | ⋯ | NA | NA | NA | NA | NA                                   | NA                        | NA                                     | NA | NA           | NA                |\n| 22003      | NA    | NA      | NA              | NA   | NA    | NA     | NA                 | NA   | NA   | ⋯ | NA | NA | NA | NA | NA                                   | NA                        | NA                                     | NA | NA           | NA                |\n| 22004      | NA    | NA      | NA              | NA   | NA    | NA     | NA                 | NA   | NA   | ⋯ | NA | NA | NA | NA | NA                                   | NA                        | NA                                     | NA | NA           | NA                |\n\n",
            "text/latex": "A tibble: 6 × 84\n\\begin{tabular}{lllllllllllllllllllll}\n 22XXX = Undergraduate students & ...2 & ...3 & ...4 & 55XXX = Graduate students & ...6 & ...7 & 77XXX = Faculty & ...9 & 99001 = Staff & ⋯ & ...75 & ...76 & ...77 & ...78 & ...79 & ...80 & ...81 & ...82 & ...83 & ...84\\\\\n <chr> & <chr> & <chr> & <chr> & <chr> & <chr> & <chr> & <chr> & <chr> & <chr> & ⋯ & <chr> & <chr> & <chr> & <chr> & <chr> & <chr> & <chr> & <chr> & <chr> & <chr>\\\\\n\\hline\n\t NA         & NA    & NA      & I: Demographics & NA   & NA    & NA     & NA                 & NA   & NA   & ⋯ & NA & NA & NA & NA & IV: Sleep Disorder Questionnaire     & NA                        & NA                                     & NA & NA           & NA               \\\\\n\t ResponseNo & Date  & Time    & Q1              & Q2   & Q3    & Q4     & Q.5                & Q6.1 & Q6.2 & ⋯ & Q6 & Q7 & Q8 & Q9 & Q1                                   & Q2                        & Q3                                     & Q4 & Compensation & Email            \\\\\n\t 22001      & 44673 & 12:52pm & Student         & Male & 20-24 & Single & Non-Hispanic White & No   & Yes  & ⋯ & 3  & 3  & 1  & 1  & Yes, not sleeping as long each night & 6 hours or less per night & Very often (5 or more times per month) & No & Yes          & hawkinsr@nmsu.edu\\\\\n\t 22002      & NA    & NA      & NA              & NA   & NA    & NA     & NA                 & NA   & NA   & ⋯ & NA & NA & NA & NA & NA                                   & NA                        & NA                                     & NA & NA           & NA               \\\\\n\t 22003      & NA    & NA      & NA              & NA   & NA    & NA     & NA                 & NA   & NA   & ⋯ & NA & NA & NA & NA & NA                                   & NA                        & NA                                     & NA & NA           & NA               \\\\\n\t 22004      & NA    & NA      & NA              & NA   & NA    & NA     & NA                 & NA   & NA   & ⋯ & NA & NA & NA & NA & NA                                   & NA                        & NA                                     & NA & NA           & NA               \\\\\n\\end{tabular}\n",
            "text/plain": [
              "  22XXX = Undergraduate students ...2  ...3    ...4           \n",
              "1 NA                             NA    NA      I: Demographics\n",
              "2 ResponseNo                     Date  Time    Q1             \n",
              "3 22001                          44673 12:52pm Student        \n",
              "4 22002                          NA    NA      NA             \n",
              "5 22003                          NA    NA      NA             \n",
              "6 22004                          NA    NA      NA             \n",
              "  55XXX = Graduate students ...6  ...7   77XXX = Faculty    ...9 99001 = Staff\n",
              "1 NA                        NA    NA     NA                 NA   NA           \n",
              "2 Q2                        Q3    Q4     Q.5                Q6.1 Q6.2         \n",
              "3 Male                      20-24 Single Non-Hispanic White No   Yes          \n",
              "4 NA                        NA    NA     NA                 NA   NA           \n",
              "5 NA                        NA    NA     NA                 NA   NA           \n",
              "6 NA                        NA    NA     NA                 NA   NA           \n",
              "  ⋯ ...75 ...76 ...77 ...78 ...79                               \n",
              "1 ⋯ NA    NA    NA    NA    IV: Sleep Disorder Questionnaire    \n",
              "2 ⋯ Q6    Q7    Q8    Q9    Q1                                  \n",
              "3 ⋯ 3     3     1     1     Yes, not sleeping as long each night\n",
              "4 ⋯ NA    NA    NA    NA    NA                                  \n",
              "5 ⋯ NA    NA    NA    NA    NA                                  \n",
              "6 ⋯ NA    NA    NA    NA    NA                                  \n",
              "  ...80                     ...81                                  ...82\n",
              "1 NA                        NA                                     NA   \n",
              "2 Q2                        Q3                                     Q4   \n",
              "3 6 hours or less per night Very often (5 or more times per month) No   \n",
              "4 NA                        NA                                     NA   \n",
              "5 NA                        NA                                     NA   \n",
              "6 NA                        NA                                     NA   \n",
              "  ...83        ...84            \n",
              "1 NA           NA               \n",
              "2 Compensation Email            \n",
              "3 Yes          hawkinsr@nmsu.edu\n",
              "4 NA           NA               \n",
              "5 NA           NA               \n",
              "6 NA           NA               "
            ]
          },
          "metadata": {}
        }
      ]
    },
    {
      "cell_type": "markdown",
      "source": [
        "##### **Filtering Staff and Faculty Data**"
      ],
      "metadata": {
        "id": "2ySkv7PKkytr"
      }
    },
    {
      "cell_type": "code",
      "source": [
        "# fixing colum names\n",
        "one_drive_vec = one_drive_df[2,] %>% t()\n",
        "rownames(one_drive_vec) = NULL\n",
        "colnames(one_drive_df) = one_drive_vec\n",
        "head(one_drive_df, 2)"
      ],
      "metadata": {
        "colab": {
          "base_uri": "https://localhost:8080/",
          "height": 445
        },
        "id": "xYFHjYzXdUdA",
        "outputId": "d2638b97-2657-4a17-abea-4b2042e75618"
      },
      "execution_count": 150,
      "outputs": [
        {
          "output_type": "display_data",
          "data": {
            "text/html": [
              "<table class=\"dataframe\">\n",
              "<caption>A tibble: 6 × 84</caption>\n",
              "<thead>\n",
              "\t<tr><th scope=col>ResponseNo</th><th scope=col>Date</th><th scope=col>Time</th><th scope=col>Q1</th><th scope=col>Q2</th><th scope=col>Q3</th><th scope=col>Q4</th><th scope=col>Q.5</th><th scope=col>Q6.1</th><th scope=col>Q6.2</th><th scope=col>⋯</th><th scope=col>Q6</th><th scope=col>Q7</th><th scope=col>Q8</th><th scope=col>Q9</th><th scope=col>Q1</th><th scope=col>Q2</th><th scope=col>Q3</th><th scope=col>Q4</th><th scope=col>Compensation</th><th scope=col>Email</th></tr>\n",
              "\t<tr><th scope=col>&lt;chr&gt;</th><th scope=col>&lt;chr&gt;</th><th scope=col>&lt;chr&gt;</th><th scope=col>&lt;chr&gt;</th><th scope=col>&lt;chr&gt;</th><th scope=col>&lt;chr&gt;</th><th scope=col>&lt;chr&gt;</th><th scope=col>&lt;chr&gt;</th><th scope=col>&lt;chr&gt;</th><th scope=col>&lt;chr&gt;</th><th scope=col>⋯</th><th scope=col>&lt;chr&gt;</th><th scope=col>&lt;chr&gt;</th><th scope=col>&lt;chr&gt;</th><th scope=col>&lt;chr&gt;</th><th scope=col>&lt;chr&gt;</th><th scope=col>&lt;chr&gt;</th><th scope=col>&lt;chr&gt;</th><th scope=col>&lt;chr&gt;</th><th scope=col>&lt;chr&gt;</th><th scope=col>&lt;chr&gt;</th></tr>\n",
              "</thead>\n",
              "<tbody>\n",
              "\t<tr><td>NA        </td><td>NA   </td><td>NA     </td><td>I: Demographics</td><td>NA  </td><td>NA   </td><td>NA    </td><td>NA                </td><td>NA  </td><td>NA  </td><td>⋯</td><td>NA</td><td>NA</td><td>NA</td><td>NA</td><td>IV: Sleep Disorder Questionnaire    </td><td>NA                       </td><td>NA                                    </td><td>NA</td><td>NA          </td><td>NA               </td></tr>\n",
              "\t<tr><td>ResponseNo</td><td>Date </td><td>Time   </td><td>Q1             </td><td>Q2  </td><td>Q3   </td><td>Q4    </td><td>Q.5               </td><td>Q6.1</td><td>Q6.2</td><td>⋯</td><td>Q6</td><td>Q7</td><td>Q8</td><td>Q9</td><td>Q1                                  </td><td>Q2                       </td><td>Q3                                    </td><td>Q4</td><td>Compensation</td><td>Email            </td></tr>\n",
              "\t<tr><td>22001     </td><td>44673</td><td>12:52pm</td><td>Student        </td><td>Male</td><td>20-24</td><td>Single</td><td>Non-Hispanic White</td><td>No  </td><td>Yes </td><td>⋯</td><td>3 </td><td>3 </td><td>1 </td><td>1 </td><td>Yes, not sleeping as long each night</td><td>6 hours or less per night</td><td>Very often (5 or more times per month)</td><td>No</td><td>Yes         </td><td>hawkinsr@nmsu.edu</td></tr>\n",
              "\t<tr><td>22002     </td><td>NA   </td><td>NA     </td><td>NA             </td><td>NA  </td><td>NA   </td><td>NA    </td><td>NA                </td><td>NA  </td><td>NA  </td><td>⋯</td><td>NA</td><td>NA</td><td>NA</td><td>NA</td><td>NA                                  </td><td>NA                       </td><td>NA                                    </td><td>NA</td><td>NA          </td><td>NA               </td></tr>\n",
              "\t<tr><td>22003     </td><td>NA   </td><td>NA     </td><td>NA             </td><td>NA  </td><td>NA   </td><td>NA    </td><td>NA                </td><td>NA  </td><td>NA  </td><td>⋯</td><td>NA</td><td>NA</td><td>NA</td><td>NA</td><td>NA                                  </td><td>NA                       </td><td>NA                                    </td><td>NA</td><td>NA          </td><td>NA               </td></tr>\n",
              "\t<tr><td>22004     </td><td>NA   </td><td>NA     </td><td>NA             </td><td>NA  </td><td>NA   </td><td>NA    </td><td>NA                </td><td>NA  </td><td>NA  </td><td>⋯</td><td>NA</td><td>NA</td><td>NA</td><td>NA</td><td>NA                                  </td><td>NA                       </td><td>NA                                    </td><td>NA</td><td>NA          </td><td>NA               </td></tr>\n",
              "</tbody>\n",
              "</table>\n"
            ],
            "text/markdown": "\nA tibble: 6 × 84\n\n| ResponseNo &lt;chr&gt; | Date &lt;chr&gt; | Time &lt;chr&gt; | Q1 &lt;chr&gt; | Q2 &lt;chr&gt; | Q3 &lt;chr&gt; | Q4 &lt;chr&gt; | Q.5 &lt;chr&gt; | Q6.1 &lt;chr&gt; | Q6.2 &lt;chr&gt; | ⋯ ⋯ | Q6 &lt;chr&gt; | Q7 &lt;chr&gt; | Q8 &lt;chr&gt; | Q9 &lt;chr&gt; | Q1 &lt;chr&gt; | Q2 &lt;chr&gt; | Q3 &lt;chr&gt; | Q4 &lt;chr&gt; | Compensation &lt;chr&gt; | Email &lt;chr&gt; |\n|---|---|---|---|---|---|---|---|---|---|---|---|---|---|---|---|---|---|---|---|---|\n| NA         | NA    | NA      | I: Demographics | NA   | NA    | NA     | NA                 | NA   | NA   | ⋯ | NA | NA | NA | NA | IV: Sleep Disorder Questionnaire     | NA                        | NA                                     | NA | NA           | NA                |\n| ResponseNo | Date  | Time    | Q1              | Q2   | Q3    | Q4     | Q.5                | Q6.1 | Q6.2 | ⋯ | Q6 | Q7 | Q8 | Q9 | Q1                                   | Q2                        | Q3                                     | Q4 | Compensation | Email             |\n| 22001      | 44673 | 12:52pm | Student         | Male | 20-24 | Single | Non-Hispanic White | No   | Yes  | ⋯ | 3  | 3  | 1  | 1  | Yes, not sleeping as long each night | 6 hours or less per night | Very often (5 or more times per month) | No | Yes          | hawkinsr@nmsu.edu |\n| 22002      | NA    | NA      | NA              | NA   | NA    | NA     | NA                 | NA   | NA   | ⋯ | NA | NA | NA | NA | NA                                   | NA                        | NA                                     | NA | NA           | NA                |\n| 22003      | NA    | NA      | NA              | NA   | NA    | NA     | NA                 | NA   | NA   | ⋯ | NA | NA | NA | NA | NA                                   | NA                        | NA                                     | NA | NA           | NA                |\n| 22004      | NA    | NA      | NA              | NA   | NA    | NA     | NA                 | NA   | NA   | ⋯ | NA | NA | NA | NA | NA                                   | NA                        | NA                                     | NA | NA           | NA                |\n\n",
            "text/latex": "A tibble: 6 × 84\n\\begin{tabular}{lllllllllllllllllllll}\n ResponseNo & Date & Time & Q1 & Q2 & Q3 & Q4 & Q.5 & Q6.1 & Q6.2 & ⋯ & Q6 & Q7 & Q8 & Q9 & Q1 & Q2 & Q3 & Q4 & Compensation & Email\\\\\n <chr> & <chr> & <chr> & <chr> & <chr> & <chr> & <chr> & <chr> & <chr> & <chr> & ⋯ & <chr> & <chr> & <chr> & <chr> & <chr> & <chr> & <chr> & <chr> & <chr> & <chr>\\\\\n\\hline\n\t NA         & NA    & NA      & I: Demographics & NA   & NA    & NA     & NA                 & NA   & NA   & ⋯ & NA & NA & NA & NA & IV: Sleep Disorder Questionnaire     & NA                        & NA                                     & NA & NA           & NA               \\\\\n\t ResponseNo & Date  & Time    & Q1              & Q2   & Q3    & Q4     & Q.5                & Q6.1 & Q6.2 & ⋯ & Q6 & Q7 & Q8 & Q9 & Q1                                   & Q2                        & Q3                                     & Q4 & Compensation & Email            \\\\\n\t 22001      & 44673 & 12:52pm & Student         & Male & 20-24 & Single & Non-Hispanic White & No   & Yes  & ⋯ & 3  & 3  & 1  & 1  & Yes, not sleeping as long each night & 6 hours or less per night & Very often (5 or more times per month) & No & Yes          & hawkinsr@nmsu.edu\\\\\n\t 22002      & NA    & NA      & NA              & NA   & NA    & NA     & NA                 & NA   & NA   & ⋯ & NA & NA & NA & NA & NA                                   & NA                        & NA                                     & NA & NA           & NA               \\\\\n\t 22003      & NA    & NA      & NA              & NA   & NA    & NA     & NA                 & NA   & NA   & ⋯ & NA & NA & NA & NA & NA                                   & NA                        & NA                                     & NA & NA           & NA               \\\\\n\t 22004      & NA    & NA      & NA              & NA   & NA    & NA     & NA                 & NA   & NA   & ⋯ & NA & NA & NA & NA & NA                                   & NA                        & NA                                     & NA & NA           & NA               \\\\\n\\end{tabular}\n",
            "text/plain": [
              "  ResponseNo Date  Time    Q1              Q2   Q3    Q4     Q.5               \n",
              "1 NA         NA    NA      I: Demographics NA   NA    NA     NA                \n",
              "2 ResponseNo Date  Time    Q1              Q2   Q3    Q4     Q.5               \n",
              "3 22001      44673 12:52pm Student         Male 20-24 Single Non-Hispanic White\n",
              "4 22002      NA    NA      NA              NA   NA    NA     NA                \n",
              "5 22003      NA    NA      NA              NA   NA    NA     NA                \n",
              "6 22004      NA    NA      NA              NA   NA    NA     NA                \n",
              "  Q6.1 Q6.2 ⋯ Q6 Q7 Q8 Q9 Q1                                  \n",
              "1 NA   NA   ⋯ NA NA NA NA IV: Sleep Disorder Questionnaire    \n",
              "2 Q6.1 Q6.2 ⋯ Q6 Q7 Q8 Q9 Q1                                  \n",
              "3 No   Yes  ⋯ 3  3  1  1  Yes, not sleeping as long each night\n",
              "4 NA   NA   ⋯ NA NA NA NA NA                                  \n",
              "5 NA   NA   ⋯ NA NA NA NA NA                                  \n",
              "6 NA   NA   ⋯ NA NA NA NA NA                                  \n",
              "  Q2                        Q3                                     Q4\n",
              "1 NA                        NA                                     NA\n",
              "2 Q2                        Q3                                     Q4\n",
              "3 6 hours or less per night Very often (5 or more times per month) No\n",
              "4 NA                        NA                                     NA\n",
              "5 NA                        NA                                     NA\n",
              "6 NA                        NA                                     NA\n",
              "  Compensation Email            \n",
              "1 NA           NA               \n",
              "2 Compensation Email            \n",
              "3 Yes          hawkinsr@nmsu.edu\n",
              "4 NA           NA               \n",
              "5 NA           NA               \n",
              "6 NA           NA               "
            ]
          },
          "metadata": {}
        }
      ]
    },
    {
      "cell_type": "code",
      "source": [
        "# filter groups\n",
        "student_only_df = data_df_name_fixed %>% filter(grepl(\"^Student$\", Q1...3))\n",
        "head(student_only_df,2)\n",
        "student_df = data_df_name_fixed %>% filter(grepl(\"Student\", Q1...3))\n",
        "head(student_df,2)\n",
        "staff_df = data_df_name_fixed  %>% filter(grepl(\"Staff\", Q1...3) & !grepl(\"Faculty\", Q1...3))\n",
        "head(staff_df,2)\n",
        "faculty_df = data_df_name_fixed  %>% filter(grepl(\"Faculty\", Q1...3))\n",
        "head(faculty_df,2)"
      ],
      "metadata": {
        "colab": {
          "base_uri": "https://localhost:8080/",
          "height": 1000
        },
        "id": "80m-AzXPc7rp",
        "outputId": "b1096f8d-db2f-46df-d685-13d11d74bb6c"
      },
      "execution_count": 153,
      "outputs": [
        {
          "output_type": "display_data",
          "data": {
            "text/html": [
              "<table class=\"dataframe\">\n",
              "<caption>A tibble: 1 × 84</caption>\n",
              "<thead>\n",
              "\t<tr><th scope=col>Date</th><th scope=col>Time</th><th scope=col>Q1...3</th><th scope=col>Q2...4</th><th scope=col>Q3...5</th><th scope=col>Q4...6</th><th scope=col>Q5...7</th><th scope=col>Q6.1...8</th><th scope=col>Q6.2</th><th scope=col>Q6.3</th><th scope=col>⋯</th><th scope=col>Q7...75</th><th scope=col>Q8...76</th><th scope=col>Q9...77</th><th scope=col>Q1...78</th><th scope=col>Q2...79</th><th scope=col>Q3...80</th><th scope=col>Q4...81</th><th scope=col>Compensation</th><th scope=col>Email</th><th scope=col>repair_names</th></tr>\n",
              "\t<tr><th scope=col>&lt;chr&gt;</th><th scope=col>&lt;chr&gt;</th><th scope=col>&lt;chr&gt;</th><th scope=col>&lt;chr&gt;</th><th scope=col>&lt;chr&gt;</th><th scope=col>&lt;chr&gt;</th><th scope=col>&lt;chr&gt;</th><th scope=col>&lt;chr&gt;</th><th scope=col>&lt;chr&gt;</th><th scope=col>&lt;chr&gt;</th><th scope=col>⋯</th><th scope=col>&lt;dbl&gt;</th><th scope=col>&lt;dbl&gt;</th><th scope=col>&lt;dbl&gt;</th><th scope=col>&lt;chr&gt;</th><th scope=col>&lt;chr&gt;</th><th scope=col>&lt;chr&gt;</th><th scope=col>&lt;chr&gt;</th><th scope=col>&lt;chr&gt;</th><th scope=col>&lt;chr&gt;</th><th scope=col>&lt;lgl&gt;</th></tr>\n",
              "</thead>\n",
              "<tbody>\n",
              "\t<tr><td>2022-04-22</td><td>12:51:58</td><td>Student</td><td>Male</td><td>20-24</td><td>Single</td><td>Non-Hispanic White</td><td>No</td><td>Yes</td><td>No</td><td>⋯</td><td>3</td><td>1</td><td>1</td><td>Yes, not sleeping as long each night</td><td>6 hours or less per night</td><td>Very often (5 or more times per month)   NA   NA   NA</td><td>No</td><td>Yes</td><td>hawkinsr@nmsu.edu</td><td>TRUE</td></tr>\n",
              "</tbody>\n",
              "</table>\n"
            ],
            "text/markdown": "\nA tibble: 1 × 84\n\n| Date &lt;chr&gt; | Time &lt;chr&gt; | Q1...3 &lt;chr&gt; | Q2...4 &lt;chr&gt; | Q3...5 &lt;chr&gt; | Q4...6 &lt;chr&gt; | Q5...7 &lt;chr&gt; | Q6.1...8 &lt;chr&gt; | Q6.2 &lt;chr&gt; | Q6.3 &lt;chr&gt; | ⋯ ⋯ | Q7...75 &lt;dbl&gt; | Q8...76 &lt;dbl&gt; | Q9...77 &lt;dbl&gt; | Q1...78 &lt;chr&gt; | Q2...79 &lt;chr&gt; | Q3...80 &lt;chr&gt; | Q4...81 &lt;chr&gt; | Compensation &lt;chr&gt; | Email &lt;chr&gt; | repair_names &lt;lgl&gt; |\n|---|---|---|---|---|---|---|---|---|---|---|---|---|---|---|---|---|---|---|---|---|\n| 2022-04-22 | 12:51:58 | Student | Male | 20-24 | Single | Non-Hispanic White | No | Yes | No | ⋯ | 3 | 1 | 1 | Yes, not sleeping as long each night | 6 hours or less per night | Very often (5 or more times per month)   NA   NA   NA | No | Yes | hawkinsr@nmsu.edu | TRUE |\n\n",
            "text/latex": "A tibble: 1 × 84\n\\begin{tabular}{lllllllllllllllllllll}\n Date & Time & Q1...3 & Q2...4 & Q3...5 & Q4...6 & Q5...7 & Q6.1...8 & Q6.2 & Q6.3 & ⋯ & Q7...75 & Q8...76 & Q9...77 & Q1...78 & Q2...79 & Q3...80 & Q4...81 & Compensation & Email & repair\\_names\\\\\n <chr> & <chr> & <chr> & <chr> & <chr> & <chr> & <chr> & <chr> & <chr> & <chr> & ⋯ & <dbl> & <dbl> & <dbl> & <chr> & <chr> & <chr> & <chr> & <chr> & <chr> & <lgl>\\\\\n\\hline\n\t 2022-04-22 & 12:51:58 & Student & Male & 20-24 & Single & Non-Hispanic White & No & Yes & No & ⋯ & 3 & 1 & 1 & Yes, not sleeping as long each night & 6 hours or less per night & Very often (5 or more times per month)   NA   NA   NA & No & Yes & hawkinsr@nmsu.edu & TRUE\\\\\n\\end{tabular}\n",
            "text/plain": [
              "  Date       Time     Q1...3  Q2...4 Q3...5 Q4...6 Q5...7             Q6.1...8\n",
              "1 2022-04-22 12:51:58 Student Male   20-24  Single Non-Hispanic White No      \n",
              "  Q6.2 Q6.3 ⋯ Q7...75 Q8...76 Q9...77 Q1...78                             \n",
              "1 Yes  No   ⋯ 3       1       1       Yes, not sleeping as long each night\n",
              "  Q2...79                  \n",
              "1 6 hours or less per night\n",
              "  Q3...80                                               Q4...81 Compensation\n",
              "1 Very often (5 or more times per month)   NA   NA   NA No      Yes         \n",
              "  Email             repair_names\n",
              "1 hawkinsr@nmsu.edu TRUE        "
            ]
          },
          "metadata": {}
        },
        {
          "output_type": "display_data",
          "data": {
            "text/html": [
              "<table class=\"dataframe\">\n",
              "<caption>A tibble: 2 × 84</caption>\n",
              "<thead>\n",
              "\t<tr><th scope=col>Date</th><th scope=col>Time</th><th scope=col>Q1...3</th><th scope=col>Q2...4</th><th scope=col>Q3...5</th><th scope=col>Q4...6</th><th scope=col>Q5...7</th><th scope=col>Q6.1...8</th><th scope=col>Q6.2</th><th scope=col>Q6.3</th><th scope=col>⋯</th><th scope=col>Q7...75</th><th scope=col>Q8...76</th><th scope=col>Q9...77</th><th scope=col>Q1...78</th><th scope=col>Q2...79</th><th scope=col>Q3...80</th><th scope=col>Q4...81</th><th scope=col>Compensation</th><th scope=col>Email</th><th scope=col>repair_names</th></tr>\n",
              "\t<tr><th scope=col>&lt;chr&gt;</th><th scope=col>&lt;chr&gt;</th><th scope=col>&lt;chr&gt;</th><th scope=col>&lt;chr&gt;</th><th scope=col>&lt;chr&gt;</th><th scope=col>&lt;chr&gt;</th><th scope=col>&lt;chr&gt;</th><th scope=col>&lt;chr&gt;</th><th scope=col>&lt;chr&gt;</th><th scope=col>&lt;chr&gt;</th><th scope=col>⋯</th><th scope=col>&lt;dbl&gt;</th><th scope=col>&lt;dbl&gt;</th><th scope=col>&lt;dbl&gt;</th><th scope=col>&lt;chr&gt;</th><th scope=col>&lt;chr&gt;</th><th scope=col>&lt;chr&gt;</th><th scope=col>&lt;chr&gt;</th><th scope=col>&lt;chr&gt;</th><th scope=col>&lt;chr&gt;</th><th scope=col>&lt;lgl&gt;</th></tr>\n",
              "</thead>\n",
              "<tbody>\n",
              "\t<tr><td>2022-04-22</td><td>12:51:58</td><td>Student        </td><td>Male  </td><td>20-24</td><td>Single</td><td>Non-Hispanic White</td><td>No</td><td>Yes</td><td>No                        </td><td>⋯</td><td>3</td><td>1</td><td>1</td><td>Yes, not sleeping as long each night                             </td><td>6 hours or less per night                       </td><td>Very often (5 or more times per month)   NA   NA   NA</td><td>No                   </td><td>Yes</td><td>hawkinsr@nmsu.edu</td><td>TRUE</td></tr>\n",
              "\t<tr><td>2022-04-22</td><td>12:51:58</td><td>Student Faculty</td><td>Female</td><td>20-24</td><td>Single</td><td>Non-Hispanic White</td><td>No</td><td>Yes</td><td>Yes, I am a student worker</td><td>⋯</td><td>3</td><td>1</td><td>0</td><td>Sleeping about the same amount each night, but sleep is disturbed</td><td>7 to 8 hours per night 9 hours or more per night</td><td>Very often (5 or more times per month)   NA   NA   NA</td><td>Prefer not to respond</td><td>Yes</td><td>kakakari@nmsu.edu</td><td>TRUE</td></tr>\n",
              "</tbody>\n",
              "</table>\n"
            ],
            "text/markdown": "\nA tibble: 2 × 84\n\n| Date &lt;chr&gt; | Time &lt;chr&gt; | Q1...3 &lt;chr&gt; | Q2...4 &lt;chr&gt; | Q3...5 &lt;chr&gt; | Q4...6 &lt;chr&gt; | Q5...7 &lt;chr&gt; | Q6.1...8 &lt;chr&gt; | Q6.2 &lt;chr&gt; | Q6.3 &lt;chr&gt; | ⋯ ⋯ | Q7...75 &lt;dbl&gt; | Q8...76 &lt;dbl&gt; | Q9...77 &lt;dbl&gt; | Q1...78 &lt;chr&gt; | Q2...79 &lt;chr&gt; | Q3...80 &lt;chr&gt; | Q4...81 &lt;chr&gt; | Compensation &lt;chr&gt; | Email &lt;chr&gt; | repair_names &lt;lgl&gt; |\n|---|---|---|---|---|---|---|---|---|---|---|---|---|---|---|---|---|---|---|---|---|\n| 2022-04-22 | 12:51:58 | Student         | Male   | 20-24 | Single | Non-Hispanic White | No | Yes | No                         | ⋯ | 3 | 1 | 1 | Yes, not sleeping as long each night                              | 6 hours or less per night                        | Very often (5 or more times per month)   NA   NA   NA | No                    | Yes | hawkinsr@nmsu.edu | TRUE |\n| 2022-04-22 | 12:51:58 | Student Faculty | Female | 20-24 | Single | Non-Hispanic White | No | Yes | Yes, I am a student worker | ⋯ | 3 | 1 | 0 | Sleeping about the same amount each night, but sleep is disturbed | 7 to 8 hours per night 9 hours or more per night | Very often (5 or more times per month)   NA   NA   NA | Prefer not to respond | Yes | kakakari@nmsu.edu | TRUE |\n\n",
            "text/latex": "A tibble: 2 × 84\n\\begin{tabular}{lllllllllllllllllllll}\n Date & Time & Q1...3 & Q2...4 & Q3...5 & Q4...6 & Q5...7 & Q6.1...8 & Q6.2 & Q6.3 & ⋯ & Q7...75 & Q8...76 & Q9...77 & Q1...78 & Q2...79 & Q3...80 & Q4...81 & Compensation & Email & repair\\_names\\\\\n <chr> & <chr> & <chr> & <chr> & <chr> & <chr> & <chr> & <chr> & <chr> & <chr> & ⋯ & <dbl> & <dbl> & <dbl> & <chr> & <chr> & <chr> & <chr> & <chr> & <chr> & <lgl>\\\\\n\\hline\n\t 2022-04-22 & 12:51:58 & Student         & Male   & 20-24 & Single & Non-Hispanic White & No & Yes & No                         & ⋯ & 3 & 1 & 1 & Yes, not sleeping as long each night                              & 6 hours or less per night                        & Very often (5 or more times per month)   NA   NA   NA & No                    & Yes & hawkinsr@nmsu.edu & TRUE\\\\\n\t 2022-04-22 & 12:51:58 & Student Faculty & Female & 20-24 & Single & Non-Hispanic White & No & Yes & Yes, I am a student worker & ⋯ & 3 & 1 & 0 & Sleeping about the same amount each night, but sleep is disturbed & 7 to 8 hours per night 9 hours or more per night & Very often (5 or more times per month)   NA   NA   NA & Prefer not to respond & Yes & kakakari@nmsu.edu & TRUE\\\\\n\\end{tabular}\n",
            "text/plain": [
              "  Date       Time     Q1...3          Q2...4 Q3...5 Q4...6 Q5...7            \n",
              "1 2022-04-22 12:51:58 Student         Male   20-24  Single Non-Hispanic White\n",
              "2 2022-04-22 12:51:58 Student Faculty Female 20-24  Single Non-Hispanic White\n",
              "  Q6.1...8 Q6.2 Q6.3                       ⋯ Q7...75 Q8...76 Q9...77\n",
              "1 No       Yes  No                         ⋯ 3       1       1      \n",
              "2 No       Yes  Yes, I am a student worker ⋯ 3       1       0      \n",
              "  Q1...78                                                          \n",
              "1 Yes, not sleeping as long each night                             \n",
              "2 Sleeping about the same amount each night, but sleep is disturbed\n",
              "  Q2...79                                         \n",
              "1 6 hours or less per night                       \n",
              "2 7 to 8 hours per night 9 hours or more per night\n",
              "  Q3...80                                               Q4...81              \n",
              "1 Very often (5 or more times per month)   NA   NA   NA No                   \n",
              "2 Very often (5 or more times per month)   NA   NA   NA Prefer not to respond\n",
              "  Compensation Email             repair_names\n",
              "1 Yes          hawkinsr@nmsu.edu TRUE        \n",
              "2 Yes          kakakari@nmsu.edu TRUE        "
            ]
          },
          "metadata": {}
        },
        {
          "output_type": "stream",
          "name": "stderr",
          "text": [
            "Warning message in cbind(parts$left, ellip_h, parts$right, deparse.level = 0L):\n",
            "“number of rows of result is not a multiple of vector length (arg 2)”\n",
            "Warning message in cbind(parts$left, ellip_h, parts$right, deparse.level = 0L):\n",
            "“number of rows of result is not a multiple of vector length (arg 2)”\n",
            "Warning message in cbind(parts$left, ellip_h, parts$right, deparse.level = 0L):\n",
            "“number of rows of result is not a multiple of vector length (arg 2)”\n",
            "Warning message in cbind(parts$left, ellip_h, parts$right, deparse.level = 0L):\n",
            "“number of rows of result is not a multiple of vector length (arg 2)”\n"
          ]
        },
        {
          "output_type": "display_data",
          "data": {
            "text/html": [
              "<table class=\"dataframe\">\n",
              "<caption>A tibble: 0 × 84</caption>\n",
              "<thead>\n",
              "\t<tr><th scope=col>Date</th><th scope=col>Time</th><th scope=col>Q1...3</th><th scope=col>Q2...4</th><th scope=col>Q3...5</th><th scope=col>Q4...6</th><th scope=col>Q5...7</th><th scope=col>Q6.1...8</th><th scope=col>Q6.2</th><th scope=col>Q6.3</th><th scope=col>⋯</th><th scope=col>Q7...75</th><th scope=col>Q8...76</th><th scope=col>Q9...77</th><th scope=col>Q1...78</th><th scope=col>Q2...79</th><th scope=col>Q3...80</th><th scope=col>Q4...81</th><th scope=col>Compensation</th><th scope=col>Email</th><th scope=col>repair_names</th></tr>\n",
              "\t<tr><th scope=col>&lt;chr&gt;</th><th scope=col>&lt;chr&gt;</th><th scope=col>&lt;chr&gt;</th><th scope=col>&lt;chr&gt;</th><th scope=col>&lt;chr&gt;</th><th scope=col>&lt;chr&gt;</th><th scope=col>&lt;chr&gt;</th><th scope=col>&lt;chr&gt;</th><th scope=col>&lt;chr&gt;</th><th scope=col>&lt;chr&gt;</th><th scope=col>⋯</th><th scope=col>&lt;dbl&gt;</th><th scope=col>&lt;dbl&gt;</th><th scope=col>&lt;dbl&gt;</th><th scope=col>&lt;chr&gt;</th><th scope=col>&lt;chr&gt;</th><th scope=col>&lt;chr&gt;</th><th scope=col>&lt;chr&gt;</th><th scope=col>&lt;chr&gt;</th><th scope=col>&lt;chr&gt;</th><th scope=col>&lt;lgl&gt;</th></tr>\n",
              "</thead>\n",
              "<tbody>\n",
              "</tbody>\n",
              "</table>\n"
            ],
            "text/markdown": "\nA tibble: 0 × 84\n\n| Date &lt;chr&gt; | Time &lt;chr&gt; | Q1...3 &lt;chr&gt; | Q2...4 &lt;chr&gt; | Q3...5 &lt;chr&gt; | Q4...6 &lt;chr&gt; | Q5...7 &lt;chr&gt; | Q6.1...8 &lt;chr&gt; | Q6.2 &lt;chr&gt; | Q6.3 &lt;chr&gt; | ⋯ ⋯ | Q7...75 &lt;dbl&gt; | Q8...76 &lt;dbl&gt; | Q9...77 &lt;dbl&gt; | Q1...78 &lt;chr&gt; | Q2...79 &lt;chr&gt; | Q3...80 &lt;chr&gt; | Q4...81 &lt;chr&gt; | Compensation &lt;chr&gt; | Email &lt;chr&gt; | repair_names &lt;lgl&gt; |\n|---|---|---|---|---|---|---|---|---|---|---|---|---|---|---|---|---|---|---|---|---|\n\n",
            "text/latex": "A tibble: 0 × 84\n\\begin{tabular}{lllllllllllllllllllll}\n Date & Time & Q1...3 & Q2...4 & Q3...5 & Q4...6 & Q5...7 & Q6.1...8 & Q6.2 & Q6.3 & ⋯ & Q7...75 & Q8...76 & Q9...77 & Q1...78 & Q2...79 & Q3...80 & Q4...81 & Compensation & Email & repair\\_names\\\\\n <chr> & <chr> & <chr> & <chr> & <chr> & <chr> & <chr> & <chr> & <chr> & <chr> & ⋯ & <dbl> & <dbl> & <dbl> & <chr> & <chr> & <chr> & <chr> & <chr> & <chr> & <lgl>\\\\\n\\hline\n\\end{tabular}\n",
            "text/plain": [
              "     Date Time Q1...3 Q2...4 Q3...5 Q4...6 Q5...7 Q6.1...8 Q6.2 Q6.3 ⋯ Q7...75\n",
              "     Q8...76 Q9...77 Q1...78 Q2...79 Q3...80 Q4...81 Compensation Email\n",
              "     repair_names"
            ]
          },
          "metadata": {}
        },
        {
          "output_type": "display_data",
          "data": {
            "text/html": [
              "<table class=\"dataframe\">\n",
              "<caption>A tibble: 1 × 84</caption>\n",
              "<thead>\n",
              "\t<tr><th scope=col>Date</th><th scope=col>Time</th><th scope=col>Q1...3</th><th scope=col>Q2...4</th><th scope=col>Q3...5</th><th scope=col>Q4...6</th><th scope=col>Q5...7</th><th scope=col>Q6.1...8</th><th scope=col>Q6.2</th><th scope=col>Q6.3</th><th scope=col>⋯</th><th scope=col>Q7...75</th><th scope=col>Q8...76</th><th scope=col>Q9...77</th><th scope=col>Q1...78</th><th scope=col>Q2...79</th><th scope=col>Q3...80</th><th scope=col>Q4...81</th><th scope=col>Compensation</th><th scope=col>Email</th><th scope=col>repair_names</th></tr>\n",
              "\t<tr><th scope=col>&lt;chr&gt;</th><th scope=col>&lt;chr&gt;</th><th scope=col>&lt;chr&gt;</th><th scope=col>&lt;chr&gt;</th><th scope=col>&lt;chr&gt;</th><th scope=col>&lt;chr&gt;</th><th scope=col>&lt;chr&gt;</th><th scope=col>&lt;chr&gt;</th><th scope=col>&lt;chr&gt;</th><th scope=col>&lt;chr&gt;</th><th scope=col>⋯</th><th scope=col>&lt;dbl&gt;</th><th scope=col>&lt;dbl&gt;</th><th scope=col>&lt;dbl&gt;</th><th scope=col>&lt;chr&gt;</th><th scope=col>&lt;chr&gt;</th><th scope=col>&lt;chr&gt;</th><th scope=col>&lt;chr&gt;</th><th scope=col>&lt;chr&gt;</th><th scope=col>&lt;chr&gt;</th><th scope=col>&lt;lgl&gt;</th></tr>\n",
              "</thead>\n",
              "<tbody>\n",
              "\t<tr><td>2022-04-22</td><td>12:51:58</td><td>Student Faculty</td><td>Female</td><td>20-24</td><td>Single</td><td>Non-Hispanic White</td><td>No</td><td>Yes</td><td>Yes, I am a student worker</td><td>⋯</td><td>3</td><td>1</td><td>0</td><td>Sleeping about the same amount each night, but sleep is disturbed</td><td>7 to 8 hours per night 9 hours or more per night</td><td>Very often (5 or more times per month)   NA   NA   NA</td><td>Prefer not to respond</td><td>Yes</td><td>kakakari@nmsu.edu</td><td>TRUE</td></tr>\n",
              "</tbody>\n",
              "</table>\n"
            ],
            "text/markdown": "\nA tibble: 1 × 84\n\n| Date &lt;chr&gt; | Time &lt;chr&gt; | Q1...3 &lt;chr&gt; | Q2...4 &lt;chr&gt; | Q3...5 &lt;chr&gt; | Q4...6 &lt;chr&gt; | Q5...7 &lt;chr&gt; | Q6.1...8 &lt;chr&gt; | Q6.2 &lt;chr&gt; | Q6.3 &lt;chr&gt; | ⋯ ⋯ | Q7...75 &lt;dbl&gt; | Q8...76 &lt;dbl&gt; | Q9...77 &lt;dbl&gt; | Q1...78 &lt;chr&gt; | Q2...79 &lt;chr&gt; | Q3...80 &lt;chr&gt; | Q4...81 &lt;chr&gt; | Compensation &lt;chr&gt; | Email &lt;chr&gt; | repair_names &lt;lgl&gt; |\n|---|---|---|---|---|---|---|---|---|---|---|---|---|---|---|---|---|---|---|---|---|\n| 2022-04-22 | 12:51:58 | Student Faculty | Female | 20-24 | Single | Non-Hispanic White | No | Yes | Yes, I am a student worker | ⋯ | 3 | 1 | 0 | Sleeping about the same amount each night, but sleep is disturbed | 7 to 8 hours per night 9 hours or more per night | Very often (5 or more times per month)   NA   NA   NA | Prefer not to respond | Yes | kakakari@nmsu.edu | TRUE |\n\n",
            "text/latex": "A tibble: 1 × 84\n\\begin{tabular}{lllllllllllllllllllll}\n Date & Time & Q1...3 & Q2...4 & Q3...5 & Q4...6 & Q5...7 & Q6.1...8 & Q6.2 & Q6.3 & ⋯ & Q7...75 & Q8...76 & Q9...77 & Q1...78 & Q2...79 & Q3...80 & Q4...81 & Compensation & Email & repair\\_names\\\\\n <chr> & <chr> & <chr> & <chr> & <chr> & <chr> & <chr> & <chr> & <chr> & <chr> & ⋯ & <dbl> & <dbl> & <dbl> & <chr> & <chr> & <chr> & <chr> & <chr> & <chr> & <lgl>\\\\\n\\hline\n\t 2022-04-22 & 12:51:58 & Student Faculty & Female & 20-24 & Single & Non-Hispanic White & No & Yes & Yes, I am a student worker & ⋯ & 3 & 1 & 0 & Sleeping about the same amount each night, but sleep is disturbed & 7 to 8 hours per night 9 hours or more per night & Very often (5 or more times per month)   NA   NA   NA & Prefer not to respond & Yes & kakakari@nmsu.edu & TRUE\\\\\n\\end{tabular}\n",
            "text/plain": [
              "  Date       Time     Q1...3          Q2...4 Q3...5 Q4...6 Q5...7            \n",
              "1 2022-04-22 12:51:58 Student Faculty Female 20-24  Single Non-Hispanic White\n",
              "  Q6.1...8 Q6.2 Q6.3                       ⋯ Q7...75 Q8...76 Q9...77\n",
              "1 No       Yes  Yes, I am a student worker ⋯ 3       1       0      \n",
              "  Q1...78                                                          \n",
              "1 Sleeping about the same amount each night, but sleep is disturbed\n",
              "  Q2...79                                         \n",
              "1 7 to 8 hours per night 9 hours or more per night\n",
              "  Q3...80                                               Q4...81              \n",
              "1 Very often (5 or more times per month)   NA   NA   NA Prefer not to respond\n",
              "  Compensation Email             repair_names\n",
              "1 Yes          kakakari@nmsu.edu TRUE        "
            ]
          },
          "metadata": {}
        }
      ]
    },
    {
      "cell_type": "code",
      "source": [
        "suppressMessages({one_drive_df_name_fixed = tibble(one_drive_df, repair_names = TRUE, .name_repair = \"universal\")})"
      ],
      "metadata": {
        "id": "3zzDXjL3hLWm"
      },
      "execution_count": 151,
      "outputs": []
    },
    {
      "cell_type": "code",
      "source": [
        "suppressMessages({data_df_name_fixed = tibble(data_df, repair_names = TRUE, .name_repair = \"universal\")})"
      ],
      "metadata": {
        "id": "1xTGVxc2maUj"
      },
      "execution_count": 152,
      "outputs": []
    },
    {
      "cell_type": "markdown",
      "source": [
        "##### **Inserting Response Number**"
      ],
      "metadata": {
        "id": "s8FijsWLxwl4"
      }
    },
    {
      "cell_type": "code",
      "source": [
        "faculty_df = faculty_df %>% mutate(ResponseNo = 77001:(77000 + n()) ) %>% dplyr::select(ResponseNo, everything())\n",
        "head(faculty_df)\n",
        "\n",
        "staff_df = tryCatch(\n",
        "{\n",
        "staff_df %>% mutate(ResponseNo = 99001:(99000 + n()) ) %>% dplyr::select(ResponseNo, everything())\n",
        "},\n",
        "error = function(e){\n",
        "        rbind(staff_df, rep(\"\", ncol(staff_df))) %>% mutate(ResponseNo = 99001:(99000 + n()) ) %>% dplyr::select(ResponseNo, everything())\n",
        "    }\n",
        ")\n",
        "head(staff_df)\n",
        "\n",
        "\n",
        "\n"
      ],
      "metadata": {
        "colab": {
          "base_uri": "https://localhost:8080/",
          "height": 383
        },
        "id": "w6V3JAhhpHsI",
        "outputId": "7e9600c1-8ee7-497c-a82a-15ff7b5df738"
      },
      "execution_count": 178,
      "outputs": [
        {
          "output_type": "display_data",
          "data": {
            "text/html": [
              "<table class=\"dataframe\">\n",
              "<caption>A tibble: 1 × 85</caption>\n",
              "<thead>\n",
              "\t<tr><th scope=col>ResponseNo</th><th scope=col>Date</th><th scope=col>Time</th><th scope=col>Q1...3</th><th scope=col>Q2...4</th><th scope=col>Q3...5</th><th scope=col>Q4...6</th><th scope=col>Q5...7</th><th scope=col>Q6.1...8</th><th scope=col>Q6.2</th><th scope=col>⋯</th><th scope=col>Q7...75</th><th scope=col>Q8...76</th><th scope=col>Q9...77</th><th scope=col>Q1...78</th><th scope=col>Q2...79</th><th scope=col>Q3...80</th><th scope=col>Q4...81</th><th scope=col>Compensation</th><th scope=col>Email</th><th scope=col>repair_names</th></tr>\n",
              "\t<tr><th scope=col>&lt;int&gt;</th><th scope=col>&lt;chr&gt;</th><th scope=col>&lt;chr&gt;</th><th scope=col>&lt;chr&gt;</th><th scope=col>&lt;chr&gt;</th><th scope=col>&lt;chr&gt;</th><th scope=col>&lt;chr&gt;</th><th scope=col>&lt;chr&gt;</th><th scope=col>&lt;chr&gt;</th><th scope=col>&lt;chr&gt;</th><th scope=col>⋯</th><th scope=col>&lt;dbl&gt;</th><th scope=col>&lt;dbl&gt;</th><th scope=col>&lt;dbl&gt;</th><th scope=col>&lt;chr&gt;</th><th scope=col>&lt;chr&gt;</th><th scope=col>&lt;chr&gt;</th><th scope=col>&lt;chr&gt;</th><th scope=col>&lt;chr&gt;</th><th scope=col>&lt;chr&gt;</th><th scope=col>&lt;lgl&gt;</th></tr>\n",
              "</thead>\n",
              "<tbody>\n",
              "\t<tr><td>77001</td><td>2022-04-22</td><td>12:51:58</td><td>Student Faculty</td><td>Female</td><td>20-24</td><td>Single</td><td>Non-Hispanic White</td><td>No</td><td>Yes</td><td>⋯</td><td>3</td><td>1</td><td>0</td><td>Sleeping about the same amount each night, but sleep is disturbed</td><td>7 to 8 hours per night 9 hours or more per night</td><td>Very often (5 or more times per month)   NA   NA   NA</td><td>Prefer not to respond</td><td>Yes</td><td>kakakari@nmsu.edu</td><td>TRUE</td></tr>\n",
              "</tbody>\n",
              "</table>\n"
            ],
            "text/markdown": "\nA tibble: 1 × 85\n\n| ResponseNo &lt;int&gt; | Date &lt;chr&gt; | Time &lt;chr&gt; | Q1...3 &lt;chr&gt; | Q2...4 &lt;chr&gt; | Q3...5 &lt;chr&gt; | Q4...6 &lt;chr&gt; | Q5...7 &lt;chr&gt; | Q6.1...8 &lt;chr&gt; | Q6.2 &lt;chr&gt; | ⋯ ⋯ | Q7...75 &lt;dbl&gt; | Q8...76 &lt;dbl&gt; | Q9...77 &lt;dbl&gt; | Q1...78 &lt;chr&gt; | Q2...79 &lt;chr&gt; | Q3...80 &lt;chr&gt; | Q4...81 &lt;chr&gt; | Compensation &lt;chr&gt; | Email &lt;chr&gt; | repair_names &lt;lgl&gt; |\n|---|---|---|---|---|---|---|---|---|---|---|---|---|---|---|---|---|---|---|---|---|\n| 77001 | 2022-04-22 | 12:51:58 | Student Faculty | Female | 20-24 | Single | Non-Hispanic White | No | Yes | ⋯ | 3 | 1 | 0 | Sleeping about the same amount each night, but sleep is disturbed | 7 to 8 hours per night 9 hours or more per night | Very often (5 or more times per month)   NA   NA   NA | Prefer not to respond | Yes | kakakari@nmsu.edu | TRUE |\n\n",
            "text/latex": "A tibble: 1 × 85\n\\begin{tabular}{lllllllllllllllllllll}\n ResponseNo & Date & Time & Q1...3 & Q2...4 & Q3...5 & Q4...6 & Q5...7 & Q6.1...8 & Q6.2 & ⋯ & Q7...75 & Q8...76 & Q9...77 & Q1...78 & Q2...79 & Q3...80 & Q4...81 & Compensation & Email & repair\\_names\\\\\n <int> & <chr> & <chr> & <chr> & <chr> & <chr> & <chr> & <chr> & <chr> & <chr> & ⋯ & <dbl> & <dbl> & <dbl> & <chr> & <chr> & <chr> & <chr> & <chr> & <chr> & <lgl>\\\\\n\\hline\n\t 77001 & 2022-04-22 & 12:51:58 & Student Faculty & Female & 20-24 & Single & Non-Hispanic White & No & Yes & ⋯ & 3 & 1 & 0 & Sleeping about the same amount each night, but sleep is disturbed & 7 to 8 hours per night 9 hours or more per night & Very often (5 or more times per month)   NA   NA   NA & Prefer not to respond & Yes & kakakari@nmsu.edu & TRUE\\\\\n\\end{tabular}\n",
            "text/plain": [
              "  ResponseNo Date       Time     Q1...3          Q2...4 Q3...5 Q4...6\n",
              "1 77001      2022-04-22 12:51:58 Student Faculty Female 20-24  Single\n",
              "  Q5...7             Q6.1...8 Q6.2 ⋯ Q7...75 Q8...76 Q9...77\n",
              "1 Non-Hispanic White No       Yes  ⋯ 3       1       0      \n",
              "  Q1...78                                                          \n",
              "1 Sleeping about the same amount each night, but sleep is disturbed\n",
              "  Q2...79                                         \n",
              "1 7 to 8 hours per night 9 hours or more per night\n",
              "  Q3...80                                               Q4...81              \n",
              "1 Very often (5 or more times per month)   NA   NA   NA Prefer not to respond\n",
              "  Compensation Email             repair_names\n",
              "1 Yes          kakakari@nmsu.edu TRUE        "
            ]
          },
          "metadata": {}
        },
        {
          "output_type": "display_data",
          "data": {
            "text/html": [
              "<table class=\"dataframe\">\n",
              "<caption>A data.frame: 1 × 85</caption>\n",
              "<thead>\n",
              "\t<tr><th></th><th scope=col>ResponseNo</th><th scope=col>X..</th><th scope=col>X...1</th><th scope=col>X...2</th><th scope=col>X...3</th><th scope=col>X...4</th><th scope=col>X...5</th><th scope=col>X...6</th><th scope=col>X...7</th><th scope=col>X...8</th><th scope=col>⋯</th><th scope=col>X...74</th><th scope=col>X...75</th><th scope=col>X...76</th><th scope=col>X...77</th><th scope=col>X...78</th><th scope=col>X...79</th><th scope=col>X...80</th><th scope=col>X...81</th><th scope=col>X...82</th><th scope=col>X...83</th></tr>\n",
              "\t<tr><th></th><th scope=col>&lt;int&gt;</th><th scope=col>&lt;chr&gt;</th><th scope=col>&lt;chr&gt;</th><th scope=col>&lt;chr&gt;</th><th scope=col>&lt;chr&gt;</th><th scope=col>&lt;chr&gt;</th><th scope=col>&lt;chr&gt;</th><th scope=col>&lt;chr&gt;</th><th scope=col>&lt;chr&gt;</th><th scope=col>&lt;chr&gt;</th><th scope=col>⋯</th><th scope=col>&lt;chr&gt;</th><th scope=col>&lt;chr&gt;</th><th scope=col>&lt;chr&gt;</th><th scope=col>&lt;chr&gt;</th><th scope=col>&lt;chr&gt;</th><th scope=col>&lt;chr&gt;</th><th scope=col>&lt;chr&gt;</th><th scope=col>&lt;chr&gt;</th><th scope=col>&lt;chr&gt;</th><th scope=col>&lt;chr&gt;</th></tr>\n",
              "</thead>\n",
              "<tbody>\n",
              "\t<tr><th scope=row>1</th><td>99001</td><td></td><td></td><td></td><td></td><td></td><td></td><td></td><td></td><td></td><td>⋯</td><td></td><td></td><td></td><td></td><td></td><td></td><td></td><td></td><td></td><td></td></tr>\n",
              "</tbody>\n",
              "</table>\n"
            ],
            "text/markdown": "\nA data.frame: 1 × 85\n\n| <!--/--> | ResponseNo &lt;int&gt; | X.. &lt;chr&gt; | X...1 &lt;chr&gt; | X...2 &lt;chr&gt; | X...3 &lt;chr&gt; | X...4 &lt;chr&gt; | X...5 &lt;chr&gt; | X...6 &lt;chr&gt; | X...7 &lt;chr&gt; | X...8 &lt;chr&gt; | ⋯ ⋯ | X...74 &lt;chr&gt; | X...75 &lt;chr&gt; | X...76 &lt;chr&gt; | X...77 &lt;chr&gt; | X...78 &lt;chr&gt; | X...79 &lt;chr&gt; | X...80 &lt;chr&gt; | X...81 &lt;chr&gt; | X...82 &lt;chr&gt; | X...83 &lt;chr&gt; |\n|---|---|---|---|---|---|---|---|---|---|---|---|---|---|---|---|---|---|---|---|---|---|\n| 1 | 99001 | <!----> | <!----> | <!----> | <!----> | <!----> | <!----> | <!----> | <!----> | <!----> | ⋯ | <!----> | <!----> | <!----> | <!----> | <!----> | <!----> | <!----> | <!----> | <!----> | <!----> |\n\n",
            "text/latex": "A data.frame: 1 × 85\n\\begin{tabular}{r|lllllllllllllllllllll}\n  & ResponseNo & X.. & X...1 & X...2 & X...3 & X...4 & X...5 & X...6 & X...7 & X...8 & ⋯ & X...74 & X...75 & X...76 & X...77 & X...78 & X...79 & X...80 & X...81 & X...82 & X...83\\\\\n  & <int> & <chr> & <chr> & <chr> & <chr> & <chr> & <chr> & <chr> & <chr> & <chr> & ⋯ & <chr> & <chr> & <chr> & <chr> & <chr> & <chr> & <chr> & <chr> & <chr> & <chr>\\\\\n\\hline\n\t1 & 99001 &  &  &  &  &  &  &  &  &  & ⋯ &  &  &  &  &  &  &  &  &  & \\\\\n\\end{tabular}\n",
            "text/plain": [
              "  ResponseNo X.. X...1 X...2 X...3 X...4 X...5 X...6 X...7 X...8 ⋯ X...74\n",
              "1 99001                                                          ⋯       \n",
              "  X...75 X...76 X...77 X...78 X...79 X...80 X...81 X...82 X...83\n",
              "1                                                               "
            ]
          },
          "metadata": {}
        }
      ]
    },
    {
      "cell_type": "markdown",
      "source": [
        "###### **Find Where to Start Writing**"
      ],
      "metadata": {
        "id": "p8mCood6kPSq"
      }
    },
    {
      "cell_type": "code",
      "source": [
        "one_drive_df_name_fixed$Row_num = 2:(nrow(one_drive_df_name_fixed) + 1)\n",
        "faculty_start_write = one_drive_df_name_fixed %>% filter(ResponseNo == 77001) %>% select(Row_num)\n",
        "staff_start_write = one_drive_df_name_fixed %>% filter(ResponseNo == 99001) %>% select(Row_num)\n",
        "faculty_start_write\n",
        "staff_start_write"
      ],
      "metadata": {
        "colab": {
          "base_uri": "https://localhost:8080/",
          "height": 276
        },
        "id": "Ed4S83TKBYBz",
        "outputId": "a4984a6e-f9f6-45f7-9bec-4b32bf09d705"
      },
      "execution_count": 175,
      "outputs": [
        {
          "output_type": "display_data",
          "data": {
            "text/html": [
              "<table class=\"dataframe\">\n",
              "<caption>A tibble: 1 × 1</caption>\n",
              "<thead>\n",
              "\t<tr><th scope=col>Row_num</th></tr>\n",
              "\t<tr><th scope=col>&lt;int&gt;</th></tr>\n",
              "</thead>\n",
              "<tbody>\n",
              "\t<tr><td>204</td></tr>\n",
              "</tbody>\n",
              "</table>\n"
            ],
            "text/markdown": "\nA tibble: 1 × 1\n\n| Row_num &lt;int&gt; |\n|---|\n| 204 |\n\n",
            "text/latex": "A tibble: 1 × 1\n\\begin{tabular}{l}\n Row\\_num\\\\\n <int>\\\\\n\\hline\n\t 204\\\\\n\\end{tabular}\n",
            "text/plain": [
              "  Row_num\n",
              "1 204    "
            ]
          },
          "metadata": {}
        },
        {
          "output_type": "display_data",
          "data": {
            "text/html": [
              "<table class=\"dataframe\">\n",
              "<caption>A tibble: 1 × 1</caption>\n",
              "<thead>\n",
              "\t<tr><th scope=col>Row_num</th></tr>\n",
              "\t<tr><th scope=col>&lt;int&gt;</th></tr>\n",
              "</thead>\n",
              "<tbody>\n",
              "\t<tr><td>304</td></tr>\n",
              "</tbody>\n",
              "</table>\n"
            ],
            "text/markdown": "\nA tibble: 1 × 1\n\n| Row_num &lt;int&gt; |\n|---|\n| 304 |\n\n",
            "text/latex": "A tibble: 1 × 1\n\\begin{tabular}{l}\n Row\\_num\\\\\n <int>\\\\\n\\hline\n\t 304\\\\\n\\end{tabular}\n",
            "text/plain": [
              "  Row_num\n",
              "1 304    "
            ]
          },
          "metadata": {}
        }
      ]
    },
    {
      "cell_type": "markdown",
      "source": [
        "##### **Writing Data To Workbook**"
      ],
      "metadata": {
        "id": "bIorIG_9kEuo"
      }
    },
    {
      "cell_type": "code",
      "source": [
        "# Write Dataframe\n",
        "wb <- loadWorkbook(\"Prevalence of Depression and Sleep Disorders in New Mexico State University Populations during COVID-19 - Response Tracker.xlsx\")\n",
        "\n",
        "writeData(wb, sheet = \"Sheet1\", x = staff_df, startRow = staff_start_write, rowNames = FALSE, colNames = FALSE)\n",
        "\n",
        "writeData(wb, sheet = \"Sheet1\", x = faculty_df, startRow = faculty_start_write, rowNames = FALSE, colNames = FALSE)\n",
        "border_col_num = c(3, 50, 69, 78, 82, 84)\n",
        "# style \n",
        "s1 <- createStyle(fontSize = 11, wrapText = TRUE, halign = \"center\")\n",
        "s2 <-  createStyle(border = \"right\")\n",
        "\n",
        "# # Apply styles to the workbook\n",
        "addStyle(wb, sheet = \"Sheet1\", style = s1, stack = TRUE,  rows = 1:(nrow(one_drive_df_name_fixed)+1), cols = 1:(ncol(one_drive_df_name_fixed)+1), gridExpand = TRUE)\n",
        "addStyle(wb, sheet = \"Sheet1\", style = s2, stack = TRUE,  rows = 1:(nrow(one_drive_df_name_fixed)+1), cols = border_col_num, gridExpand = TRUE)\n",
        "\n",
        "saveWorkbook(wb, paste0(Sys.Date(),\" Test_file (openxlsx)\",\".xlsx\"), overwrite = TRUE)"
      ],
      "metadata": {
        "id": "LWKgtf2D-V8h"
      },
      "execution_count": 194,
      "outputs": []
    },
    {
      "cell_type": "code",
      "source": [
        "# get_personal_onedrive(auth_type=\"device_code\")\n",
        "\n",
        "# get_business_onedrive(tenant=\"nmsu.edu\", auth_type=\"device_code\")"
      ],
      "metadata": {
        "colab": {
          "base_uri": "https://localhost:8080/"
        },
        "id": "37uM2WiPhI6B",
        "outputId": "ab0b3acc-9d9d-41b4-dac0-536d600614b4"
      },
      "execution_count": 204,
      "outputs": [
        {
          "output_type": "stream",
          "name": "stderr",
          "text": [
            "Creating Microsoft Graph login for tenant 'nmsu.edu'\n",
            "\n"
          ]
        },
        {
          "output_type": "stream",
          "name": "stdout",
          "text": [
            "To sign in, use a web browser to open the page https://microsoft.com/devicelogin and enter the code E44A7KYSH to authenticate. \n"
          ]
        },
        {
          "output_type": "stream",
          "name": "stderr",
          "text": [
            "Waiting for device code in browser...\n",
            "Press Esc/Ctrl + C to abort\n",
            "\n"
          ]
        }
      ]
    },
    {
      "cell_type": "code",
      "source": [
        "# read_url_csv <- function(url, ...){\n",
        "#   tmpFile <- tempfile()\n",
        "#   download.file(url, destfile = tmpFile)\n",
        "#   url_csv <- readr::read_csv(tmpFile, ...)\n",
        "#   return(url_csv)\n",
        "# }\n",
        "# onedrive_url <- \"https://eltnmsu-my.sharepoint.com/:x:/g/personal/jonaggie_nmsu_edu/ETrw5EUUJW1OkfoqgknUWSMB9mgomEJ6xf7qyite3k4U5A\"\n",
        "\n",
        "# csv <- read_url_csv(onedrive_url)\n",
        "\n"
      ],
      "metadata": {
        "id": "Fz0E9mcBe7b_"
      },
      "execution_count": 212,
      "outputs": []
    }
  ]
}